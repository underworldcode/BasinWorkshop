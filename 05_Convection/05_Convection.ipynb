{
 "cells": [
  {
   "cell_type": "markdown",
   "metadata": {
    "deletable": true,
    "editable": true
   },
   "source": [
    "Thermal Convection\n",
    "======\n",
    "\n",
    "This example solves 2D dimensionless isoviscous thermal convection with a Rayleigh number of $10^4$, see Blankenbach *et al.* 1989 for details.\n",
    "\n",
    "**This example introduces:**\n",
    "1. Setting up material parameters and functions.\n",
    "2. Setting up and solving systems, Stokes and Advection Diffusion.\n",
    "3. The time stepping loop.\n",
    "4. Plotting with glucifer.\n",
    "\n",
    "**Keywords:** material parameters, Stokes system, advective diffusive systems\n",
    "\n",
    "**References**\n",
    "\n",
    "B. Blankenbach, F. Busse, U. Christensen, L. Cserepes, D. Gunkel, U. Hansen, H. Harder, G. Jarvis, M. Koch, G. Marquart, D. Moore, P. Olson, H. Schmeling and T. Schnaubelt. A benchmark comparison for mantle convection codes. Geophysical Journal International, 98, 1, 23–38, 1989\n",
    "http://onlinelibrary.wiley.com/doi/10.1111/j.1365-246X.1989.tb05511.x/abstract\n",
    "\n",
    "<img src='../images/thermalConvection.png'>"
   ]
  },
  {
   "cell_type": "code",
   "execution_count": null,
   "metadata": {
    "collapsed": false,
    "deletable": true,
    "editable": true
   },
   "outputs": [],
   "source": [
    "import underworld as uw\n",
    "from underworld import function as fn\n",
    "import glucifer\n",
    "import math\n",
    "\n",
    "outputPath = 'output'\n",
    "\n",
    "# create outputPath\n",
    "import glob, json, os\n",
    "# make a unique path\n",
    "if os.path.exists(outputPath):\n",
    "    outputPath += '_'+str(len(glob.glob(outputPath+str('*')))-1)\n",
    "\n",
    "# build output dir string\n",
    "if not outputPath.endswith('/'):\n",
    "    outputPath += '/'\n",
    "    \n",
    "# make the output path\n",
    "if not os.path.exists(outputPath):\n",
    "    os.makedirs(outputPath)\n",
    "    \n",
    "outfile = open(outputPath+'/time.data', 'w+')\n",
    "string = \"steps, time, timestep, vrms\"\n",
    "outfile.write( string+\"\\n\")"
   ]
  },
  {
   "cell_type": "markdown",
   "metadata": {
    "deletable": true,
    "editable": true
   },
   "source": [
    "Setup parameters\n",
    "-----"
   ]
  },
  {
   "cell_type": "code",
   "execution_count": null,
   "metadata": {
    "collapsed": false,
    "deletable": true,
    "editable": true
   },
   "outputs": [],
   "source": [
    "# Set simulation box size.\n",
    "boxHeight = 1.0\n",
    "boxLength = 2.0\n",
    "# Set the resolution.\n",
    "res = 16\n",
    "# Set min/max temperatures.\n",
    "tempMin = 0.0\n",
    "tempMax = 1.0"
   ]
  },
  {
   "cell_type": "markdown",
   "metadata": {
    "deletable": true,
    "editable": true
   },
   "source": [
    "Create mesh and variables\n",
    "------\n",
    "\n",
    "The mesh object has both a primary and sub mesh. \"Q1/dQ0\" produces a primary mesh with element type Q1 and a sub-mesh with elements type dQ0. Q1 elements have nodes at the element corners, dQ0 elements have a single node at the elements centre."
   ]
  },
  {
   "cell_type": "code",
   "execution_count": null,
   "metadata": {
    "collapsed": false,
    "deletable": true,
    "editable": true
   },
   "outputs": [],
   "source": [
    "mesh = uw.mesh.FeMesh_Cartesian( elementType = (\"Q1/dQ0\"), \n",
    "                                 elementRes  = (2*res, res), \n",
    "                                 minCoord    = (0., 0.), \n",
    "                                 maxCoord    = (boxLength, boxHeight))"
   ]
  },
  {
   "cell_type": "markdown",
   "metadata": {
    "deletable": true,
    "editable": true
   },
   "source": [
    "Create mesh variables.  Note the pressure field uses the sub-mesh. "
   ]
  },
  {
   "cell_type": "code",
   "execution_count": null,
   "metadata": {
    "collapsed": false,
    "deletable": true,
    "editable": true
   },
   "outputs": [],
   "source": [
    "velocityField       = uw.mesh.MeshVariable( mesh=mesh,         nodeDofCount=2 )\n",
    "pressureField       = uw.mesh.MeshVariable( mesh=mesh.subMesh, nodeDofCount=1 )\n",
    "temperatureField    = uw.mesh.MeshVariable( mesh=mesh,         nodeDofCount=1 )\n",
    "temperatureDotField = uw.mesh.MeshVariable( mesh=mesh,         nodeDofCount=1 )\n",
    "\n",
    "# Initialise values\n",
    "velocityField.data[:]       = [0.,0.]\n",
    "pressureField.data[:]       = 0.\n",
    "temperatureDotField.data[:] = 0."
   ]
  },
  {
   "cell_type": "markdown",
   "metadata": {
    "deletable": true,
    "editable": true
   },
   "source": [
    "Set up material parameters and functions\n",
    "-----\n",
    "\n",
    "Set functions for viscosity, density and buoyancy force. These functions and variables only need to be defined at the beginning of the simulation, not each timestep."
   ]
  },
  {
   "cell_type": "code",
   "execution_count": null,
   "metadata": {
    "collapsed": false,
    "deletable": true,
    "editable": true
   },
   "outputs": [],
   "source": [
    "# Set viscosity to be a constant.\n",
    "viscosity = 1.\n",
    "\n",
    "# Rayleigh number.\n",
    "Ra = 1.0e4\n",
    "\n",
    "# Construct our density function.\n",
    "densityFn = Ra * temperatureField\n",
    "\n",
    "# Define our vertical unit vector using a python tuple (this will be automatically converted to a function).\n",
    "z_hat = ( 0.0, 1.0 )\n",
    "\n",
    "# Now create a buoyancy force vector using the density and the vertical unit vector. \n",
    "buoyancyFn = densityFn * z_hat"
   ]
  },
  {
   "cell_type": "markdown",
   "metadata": {
    "deletable": true,
    "editable": true
   },
   "source": [
    "Create initial & boundary conditions\n",
    "----------\n",
    "\n",
    "Using **pure python** we set a sinusoidal perturbation in the temperature field to seed the onset of convection."
   ]
  },
  {
   "cell_type": "code",
   "execution_count": null,
   "metadata": {
    "collapsed": true,
    "deletable": true,
    "editable": true
   },
   "outputs": [],
   "source": [
    "pertStrength = 0.2\n",
    "deltaTemp = tempMax - tempMin\n",
    "for index, coord in enumerate(mesh.data):\n",
    "    pertCoeff = math.cos( math.pi * coord[0] ) * math.sin( math.pi * coord[1] )\n",
    "    temperatureField.data[index] = tempMin + deltaTemp*(boxHeight - coord[1]) + pertStrength * pertCoeff\n",
    "    temperatureField.data[index] = max(tempMin, min(tempMax, temperatureField.data[index]))"
   ]
  },
  {
   "cell_type": "markdown",
   "metadata": {
    "deletable": true,
    "editable": true
   },
   "source": [
    "Set top and bottom wall temperature boundary values."
   ]
  },
  {
   "cell_type": "code",
   "execution_count": null,
   "metadata": {
    "collapsed": false,
    "deletable": true,
    "editable": true
   },
   "outputs": [],
   "source": [
    "for index in mesh.specialSets[\"MinJ_VertexSet\"]:\n",
    "    temperatureField.data[index] = tempMax\n",
    "for index in mesh.specialSets[\"MaxJ_VertexSet\"]:\n",
    "    temperatureField.data[index] = tempMin"
   ]
  },
  {
   "cell_type": "markdown",
   "metadata": {
    "deletable": true,
    "editable": true
   },
   "source": [
    "Construct sets for ``I`` (vertical) and ``J`` (horizontal) walls."
   ]
  },
  {
   "cell_type": "code",
   "execution_count": null,
   "metadata": {
    "collapsed": false,
    "deletable": true,
    "editable": true
   },
   "outputs": [],
   "source": [
    "iWalls = mesh.specialSets[\"MinI_VertexSet\"] + mesh.specialSets[\"MaxI_VertexSet\"]\n",
    "jWalls = mesh.specialSets[\"MinJ_VertexSet\"] + mesh.specialSets[\"MaxJ_VertexSet\"]"
   ]
  },
  {
   "cell_type": "markdown",
   "metadata": {
    "deletable": true,
    "editable": true
   },
   "source": [
    "Create Direchlet, or fixed value, boundary conditions. More information on setting boundary conditions can be found in the **Systems** section of the user guide."
   ]
  },
  {
   "cell_type": "code",
   "execution_count": null,
   "metadata": {
    "collapsed": true,
    "deletable": true,
    "editable": true
   },
   "outputs": [],
   "source": [
    "# 2D velocity vector can have two Dirichlet conditions on each vertex, \n",
    "# v_x is fixed on the iWalls (vertical), v_y is fixed on the jWalls (horizontal)\n",
    "velBC  = uw.conditions.DirichletCondition( variable        = velocityField, \n",
    "                                           indexSetsPerDof = (iWalls, jWalls) )\n",
    "\n",
    "# Temperature is held constant on the jWalls\n",
    "tempBC = uw.conditions.DirichletCondition( variable        = temperatureField, \n",
    "                                           indexSetsPerDof = (jWalls,) )"
   ]
  },
  {
   "cell_type": "markdown",
   "metadata": {
    "deletable": true,
    "editable": true
   },
   "source": [
    "**Render initial conditions for temperature**\n"
   ]
  },
  {
   "cell_type": "code",
   "execution_count": null,
   "metadata": {
    "collapsed": false,
    "deletable": true,
    "editable": true,
    "scrolled": false
   },
   "outputs": [],
   "source": [
    "figtemp = glucifer.Figure( figsize=(800,400) )\n",
    "figtemp.append( glucifer.objects.Surface(mesh, temperatureField, colours=\"blue white red\") )\n",
    "figtemp.append( glucifer.objects.Mesh(mesh) )\n",
    "figtemp.show()"
   ]
  },
  {
   "cell_type": "markdown",
   "metadata": {
    "deletable": true,
    "editable": true
   },
   "source": [
    "System setup\n",
    "-----\n",
    "\n",
    "**Setup a Stokes system**\n",
    "\n",
    "Underworld uses the Stokes system to solve the incompressible Stokes equations.  "
   ]
  },
  {
   "cell_type": "code",
   "execution_count": null,
   "metadata": {
    "collapsed": false,
    "deletable": true,
    "editable": true
   },
   "outputs": [],
   "source": [
    "eta_0 = 1.0e-6\n",
    "# use functions to define your rheology directly. \n",
    "# E = 27.63\n",
    "# eta = eta_0*fn.math.exp( E / ( temperatureField + 1. ))\n",
    "\n",
    "stokes = uw.systems.Stokes( velocityField = velocityField, \n",
    "                            pressureField = pressureField,\n",
    "                            conditions    = velBC,\n",
    "                            fn_viscosity  = eta_0, \n",
    "                            fn_bodyforce  = buoyancyFn )\n",
    "\n",
    "# get the default stokes equation solver\n",
    "solver = uw.systems.Solver( stokes )"
   ]
  },
  {
   "cell_type": "markdown",
   "metadata": {
    "deletable": true,
    "editable": true
   },
   "source": [
    "**Set up the advective diffusive system**\n",
    "\n",
    "Underworld uses the AdvectionDiffusion system to solve the temperature field given heat transport through the velocity field. More information on the advection diffusion equation can be found [here](http://underworld2.readthedocs.io/en/latest/underworld.systems.html#underworld.systems.AdvectionDiffusion)."
   ]
  },
  {
   "cell_type": "code",
   "execution_count": null,
   "metadata": {
    "collapsed": false,
    "deletable": true,
    "editable": true
   },
   "outputs": [],
   "source": [
    "advDiff = uw.systems.AdvectionDiffusion( phiField       = temperatureField, \n",
    "                                         phiDotField    = temperatureDotField, \n",
    "                                         velocityField  = velocityField, \n",
    "                                         fn_diffusivity = 1.0, \n",
    "                                         conditions     = tempBC )"
   ]
  },
  {
   "cell_type": "markdown",
   "metadata": {
    "deletable": true,
    "editable": true
   },
   "source": [
    "Main time stepping loop\n",
    "-----"
   ]
  },
  {
   "cell_type": "code",
   "execution_count": null,
   "metadata": {
    "collapsed": true,
    "deletable": true,
    "editable": true
   },
   "outputs": [],
   "source": [
    "# define an update function\n",
    "def update(dt):\n",
    "    # Advect using this timestep size.\n",
    "    advDiff.integrate(dt)\n",
    "    return time+dt, step+1"
   ]
  },
  {
   "cell_type": "code",
   "execution_count": null,
   "metadata": {
    "collapsed": false,
    "deletable": true,
    "editable": true
   },
   "outputs": [],
   "source": [
    "time = 0.\n",
    "step = 0\n",
    "steps_end = 20\n",
    "\n",
    "# functions for calculating RMS velocity\n",
    "vdotv = fn.math.dot(velocityField,velocityField)\n",
    "v2int  = uw.utils.Integral( mesh=mesh, fn=vdotv )\n",
    "vol = uw.utils.Integral( mesh=mesh, fn=1. )\n",
    "\n",
    "# perform timestepping with a 'weakly coupled' scheme:\n",
    "# solver.solve() - updates the velocityField using the temperatureField\n",
    "# update(dt)     - updates the temperatureField using the velocityField (+diffusion)\n",
    "while step < steps_end:\n",
    "    # Solve for the velocity field given the current temperature field.\n",
    "    solver.solve()  \n",
    "    \n",
    "    # Retrieve the maximum possible timestep for the advection-diffusion system.\n",
    "    dt = advDiff.get_max_dt()\n",
    "    \n",
    "    string = \"{}, {}, {}, {}\".format(step, time, dt, math.sqrt(v2int.evaluate()[0]/vol.evaluate()[0]) )\n",
    "    outfile.write(string+\"\\n\")\n",
    "    figtemp.save_image(outputPath+'temp'+str(step))\n",
    "    \n",
    "    time, step = update(dt)\n",
    "    \n",
    "outfile.close()"
   ]
  },
  {
   "cell_type": "markdown",
   "metadata": {
    "deletable": true,
    "editable": true
   },
   "source": [
    "**Plot final temperature and velocity field**"
   ]
  },
  {
   "cell_type": "code",
   "execution_count": null,
   "metadata": {
    "collapsed": false,
    "deletable": true,
    "editable": true
   },
   "outputs": [],
   "source": [
    "# plot figure\n",
    "figtemp = glucifer.Figure( figsize=(800,400) )\n",
    "figtemp.append( glucifer.objects.Surface(mesh, temperatureField, colours=\"blue white red\") )\n",
    "# figtemp.append( glucifer.objects.VectorArrows(mesh, velocityField/100.0, arrowHead=0.2, scaling=0.1) )\n",
    "figtemp.show()"
   ]
  },
  {
   "cell_type": "markdown",
   "metadata": {
    "collapsed": true,
    "deletable": true,
    "editable": true
   },
   "source": [
    "**Exercise**:\n",
    "\n",
    "1) Modify the viscosity of the fluid to an arrhenius type rheology of the form. \n",
    "   $$\\eta = \\eta_0 \\exp \\left( \\frac {E } {T+1} \\right)$$\n",
    "\n",
    "Remember you can visualise the viscosity `Function` as a surface.\n",
    "\n",
    "Notice the bigger the viscosity contrast the slower the solve."
   ]
  }
 ],
 "metadata": {
  "kernelspec": {
   "display_name": "Python 2",
   "language": "python",
   "name": "python2"
  },
  "language_info": {
   "codemirror_mode": {
    "name": "ipython",
    "version": 2
   },
   "file_extension": ".py",
   "mimetype": "text/x-python",
   "name": "python",
   "nbconvert_exporter": "python",
   "pygments_lexer": "ipython2",
   "version": "2.7.11+"
  }
 },
 "nbformat": 4,
 "nbformat_minor": 0
}
