{
 "cells": [
  {
   "cell_type": "markdown",
   "metadata": {
    "deletable": true,
    "editable": true
   },
   "source": [
    "# BGH Underworld 2 workshop\n",
    "\n",
    "Julian Giordani & Romain Beucher\n",
    "\n",
    "## Workshop plan:\n",
    "\n",
    "We will be using jupyter notebooks to explore Underworld 2 capabilities.\n",
    "\n",
    "The notebooks prepared are for this course are:\n",
    " - This notebook\n",
    " - [01_BasicsViz.ipynb](01_BasicsViz/01_BasicsViz.ipynb)\n",
    " \n",
    " - [02_TemperatureSolve.ipynb](02_TemperatureSolve/02_TemperatureSolve.ipynb)\n",
    " \n",
    " - [03_StokesFlowDrivenThermal.ipynb](03_StokesFlowDrivenThermal/03_StokesFlowDrivenThermal.ipynb)\n",
    " \n",
    " - [04_RayTay.ipynb](04_RayTay/04_RayTay.ipynb)\n",
    " \n",
    " - [05_Convection.ipynb](05_Convection/05_Convection.ipynb)\n",
    " \n",
    " - [06_Geotherm.ipynb](06_Geotherm/06_Geotherm.ipynb)\n",
    " \n",
    " - [07_Uplift.ipynb](07_Uplift/07_Uplift.ipynb)\n",
    " \n"
   ]
  },
  {
   "cell_type": "markdown",
   "metadata": {
    "collapsed": true,
    "deletable": true,
    "editable": true
   },
   "source": [
    "Underworld homepage & blog:\n",
    "\n",
    "[http://www.underworldcode.org/](http://www.underworldcode.org/)\n",
    "\n",
    "Underworld codebase:\n",
    "\n",
    "[https://github.com/underworldcode/underworld2](https://github.com/underworldcode/underworld2)\n",
    "\n",
    "Issue tracker:\n",
    "\n",
    "[https://github.com/underworldcode/underworld2/issues](https://github.com/underworldcode/underworld2/issues)\n",
    "\n",
    "Follow us on Facebook!\n",
    "\n",
    "[https://www.facebook.com/underworldcode/](https://www.facebook.com/underworldcode/)\n"
   ]
  },
  {
   "cell_type": "markdown",
   "metadata": {
    "deletable": true,
    "editable": true
   },
   "source": [
    "### Underworld 2 basics\n",
    "\n",
    " * An open-source, parallel FEM and PIC code, with visualisation by glucifer\n",
    " * Underworld, over 10+ years of development, good scaling performance 500+.\n",
    " * Underworld 2 has two layers of code\n",
    "   * 1) c/c++ layer for speed\n",
    "   * 2) python layer for user interaction\n",
    "   \n",
    "- numpy arrays to communicate between the layers\n",
    "- user documentation - http://underworld2.readthedocs.io/en/v2.2.1b/\n",
    "\n",
    "-------------\n",
    "\n",
    "#### Main points to demonstrate in this workshop\n",
    "* **Readability and flexibility of the Python interface**  \n",
    "   More concise and robust user experience; realtime interactivity with jupyter notebooks.\n",
    "\n",
    "* **Direct access to discretisation data (e.g field values) via Numpy**  \n",
    "   From python one can read, manipulate and write to the memory used by the underlying c layer.\n",
    "\n",
    "* **User Patterns**  \n",
    "   The mesh, field and particle data structures have similar user patterns."
   ]
  },
  {
   "cell_type": "code",
   "execution_count": null,
   "metadata": {
    "collapsed": true,
    "deletable": true,
    "editable": true
   },
   "outputs": [],
   "source": [
    "# to execute a cell use \"Shift\" + \"Enter\"\n",
    "import underworld as uw"
   ]
  },
  {
   "cell_type": "code",
   "execution_count": null,
   "metadata": {
    "collapsed": false,
    "deletable": true,
    "editable": true
   },
   "outputs": [],
   "source": [
    "print uw.__version__"
   ]
  },
  {
   "cell_type": "markdown",
   "metadata": {
    "deletable": true,
    "editable": true
   },
   "source": [
    "### Notebooks:\n",
    "\n",
    "#### Positives\n",
    "- complete python environment\n",
    "- documentation docstrings\n",
    "- tab completion of python module\n",
    "- jupyter is perfect for rapid model development\n",
    "\n",
    "#### Negatives\n",
    "- no parallel support on cluster yet   "
   ]
  },
  {
   "cell_type": "code",
   "execution_count": null,
   "metadata": {
    "collapsed": false,
    "deletable": true,
    "editable": true
   },
   "outputs": [],
   "source": [
    "# hold shift + tabx2 on nProcs() to see what it does\n",
    "uw.nProcs()"
   ]
  }
 ],
 "metadata": {
  "kernelspec": {
   "display_name": "Python 2",
   "language": "python",
   "name": "python2"
  },
  "language_info": {
   "codemirror_mode": {
    "name": "ipython",
    "version": 2
   },
   "file_extension": ".py",
   "mimetype": "text/x-python",
   "name": "python",
   "nbconvert_exporter": "python",
   "pygments_lexer": "ipython2",
   "version": "2.7.11+"
  }
 },
 "nbformat": 4,
 "nbformat_minor": 0
}
