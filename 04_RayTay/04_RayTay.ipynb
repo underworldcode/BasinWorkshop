{
 "cells": [
  {
   "cell_type": "markdown",
   "metadata": {
    "deletable": true,
    "editable": true
   },
   "source": [
    "Rayleigh-Taylor instability\n",
    "======\n",
    "\n",
    "This notebook models the Rayleigh-Taylor instability outlined in van Keken *et al.* (1997). \n",
    "\n",
    "The system of equations is given by\n",
    "\n",
    "$$\n",
    "    \\nabla \\cdot \\left( \\eta \\nabla \\dot\\varepsilon \\right) - \\nabla p = -\\rho g \\mathbf{\\hat z}\n",
    "$$\n",
    "\n",
    "$$\n",
    "    \\nabla \\cdot \\mathbf{v} = 0\n",
    "$$\n",
    "\n",
    "**New concepts:** particle swarms, Stokes system, Mapping underworld.functions\n",
    "\n",
    "**References**\n",
    "\n",
    "1. van Keken, P.E., S.D. King, H. Schmeling, U.R. Christensen, D.Neumeister and M.-P. Doin. A comparison of methods for the modeling of thermochemical convection. Journal of Geophysical Research, 102, 22,477-22,495, 1997.  \n",
    "http://onlinelibrary.wiley.com/doi/10.1029/97JB01353/abstract\n",
    "\n",
    "<img src='../images/raytay.png' width=600>\n"
   ]
  },
  {
   "cell_type": "code",
   "execution_count": null,
   "metadata": {
    "collapsed": false,
    "deletable": true,
    "editable": true
   },
   "outputs": [],
   "source": [
    "import underworld as uw\n",
    "from underworld import function as fn\n",
    "import glucifer\n",
    "import math\n",
    "import numpy as np"
   ]
  },
  {
   "cell_type": "code",
   "execution_count": null,
   "metadata": {
    "collapsed": false,
    "deletable": true,
    "editable": true
   },
   "outputs": [],
   "source": [
    "outputPath = 'output'\n",
    "\n",
    "# create outputPath\n",
    "import glob, json, os\n",
    "# make a unique path\n",
    "if os.path.exists(outputPath):\n",
    "    outputPath += '_'+str(len(glob.glob(outputPath+str('*')))-1)\n",
    "\n",
    "# build output dir string\n",
    "if not outputPath.endswith('/'):\n",
    "    outputPath += '/'\n",
    "    \n",
    "# make the output path\n",
    "if not os.path.exists(outputPath):\n",
    "    os.makedirs(outputPath)"
   ]
  },
  {
   "cell_type": "markdown",
   "metadata": {
    "deletable": true,
    "editable": true
   },
   "source": [
    "Setup parameters\n",
    "-----"
   ]
  },
  {
   "cell_type": "code",
   "execution_count": null,
   "metadata": {
    "collapsed": true,
    "deletable": true,
    "editable": true
   },
   "outputs": [],
   "source": [
    "res = 64\n",
    "boxLength = 0.9142\n",
    "boxHeight = 1.0"
   ]
  },
  {
   "cell_type": "markdown",
   "metadata": {
    "deletable": true,
    "editable": true
   },
   "source": [
    "Create mesh and finite element variables\n",
    "------"
   ]
  },
  {
   "cell_type": "code",
   "execution_count": null,
   "metadata": {
    "collapsed": false,
    "deletable": true,
    "editable": true
   },
   "outputs": [],
   "source": [
    "mesh = uw.mesh.FeMesh_Cartesian( elementType = (\"Q1/dQ0\"), \n",
    "                                 elementRes  = (res, res), \n",
    "                                 minCoord    = (0., 0.), \n",
    "                                 maxCoord    = (boxLength, boxHeight))\n",
    "\n",
    "velocityField = uw.mesh.MeshVariable( mesh=mesh,         nodeDofCount=2 )\n",
    "pressureField = uw.mesh.MeshVariable( mesh=mesh.subMesh, nodeDofCount=1 )\n",
    "\n",
    "# functions to caluculate strain rate second invariant\n",
    "strainRate = fn.tensor.symmetric( velocityField.fn_gradient )\n",
    "strainRateInv = fn.tensor.second_invariant( strainRate )\n",
    "\n",
    "# initialise \n",
    "velocityField.data[:] = [0.,0.]\n",
    "pressureField.data[:] = 0."
   ]
  },
  {
   "cell_type": "markdown",
   "metadata": {
    "collapsed": true,
    "deletable": true,
    "editable": true
   },
   "source": [
    "Create a particle swarm\n",
    "------"
   ]
  },
  {
   "cell_type": "code",
   "execution_count": null,
   "metadata": {
    "collapsed": false,
    "deletable": true,
    "editable": true
   },
   "outputs": [],
   "source": [
    "# Create a swarm.\n",
    "swarm = uw.swarm.Swarm( mesh=mesh )\n",
    "\n",
    "# Create a data variable. It will be used to store the material index of each particle.\n",
    "materialIndex = swarm.add_variable( dataType=\"int\", count=1 )\n",
    "\n",
    "# Create a layout object, populate the swarm with particles.\n",
    "swarmLayout = uw.swarm.layouts.GlobalSpaceFillerLayout( swarm=swarm, particlesPerCell=20 )\n",
    "swarm.populate_using_layout( layout=swarmLayout )"
   ]
  },
  {
   "cell_type": "markdown",
   "metadata": {
    "deletable": true,
    "editable": true
   },
   "source": [
    "Initialise each particle's material index\n",
    "-----"
   ]
  },
  {
   "cell_type": "code",
   "execution_count": null,
   "metadata": {
    "collapsed": false,
    "deletable": true,
    "editable": true
   },
   "outputs": [],
   "source": [
    "# define these for convience. \n",
    "denseIndex = 0\n",
    "lightIndex = 1\n",
    "\n",
    "# material perturbation from van Keken et al. 1997\n",
    "wavelength = 2.0*boxLength\n",
    "amplitude  = 0.02\n",
    "offset     = 0.2\n",
    "k = 2. * math.pi / wavelength\n",
    "\n",
    "# Create function to return a coordinate\n",
    "coord = fn.coord()\n",
    "\n",
    "# Define the material perturbation, a function of the x coordinate (accessed by `coord[0]`).\n",
    "perturbationFn = offset + amplitude*fn.math.cos( k*coord[0] )\n",
    "\n",
    "# Setup the conditions list. \n",
    "# If z is less than the perturbation, set to lightIndex.\n",
    "conditions = [ ( perturbationFn > coord[1] , lightIndex ),\n",
    "               (                      True , denseIndex ) ]\n",
    "\n",
    "# The swarm is passed as an argument to the evaluation, providing evaluation on each particle.\n",
    "# Results are written to the materialIndex swarm variable.\n",
    "materialIndex.data[:] = fn.branching.conditional( conditions ).evaluate(swarm)"
   ]
  },
  {
   "cell_type": "markdown",
   "metadata": {},
   "source": [
    "**Plot the strain rate invariant**"
   ]
  },
  {
   "cell_type": "code",
   "execution_count": null,
   "metadata": {
    "collapsed": false
   },
   "outputs": [],
   "source": [
    "fig = glucifer.Figure()\n",
    "fig.append(glucifer.objects.Surface(mesh, strainRateInv))\n",
    "fig.show()"
   ]
  },
  {
   "cell_type": "markdown",
   "metadata": {
    "deletable": true,
    "editable": true
   },
   "source": [
    "**Plot the particles by material**"
   ]
  },
  {
   "cell_type": "code",
   "execution_count": null,
   "metadata": {
    "collapsed": false,
    "deletable": true,
    "editable": true,
    "scrolled": false
   },
   "outputs": [],
   "source": [
    "fig1 = glucifer.Figure()\n",
    "fig1.append( glucifer.objects.Points(swarm, materialIndex, pointSize=2, colourBar=False) )\n",
    "fig1.append( glucifer.objects.VectorArrows( mesh, velocityField, scaling=1e1))\n",
    "fig1.show()"
   ]
  },
  {
   "cell_type": "markdown",
   "metadata": {
    "deletable": true,
    "editable": true
   },
   "source": [
    "Map properties to material index\n",
    "-----\n",
    "The Map function allows us to create 'per material' type behaviour. Again we use the branching function to set up a (condition, action) command. "
   ]
  },
  {
   "cell_type": "code",
   "execution_count": null,
   "metadata": {
    "collapsed": false,
    "deletable": true,
    "editable": true
   },
   "outputs": [],
   "source": [
    "# Set a density of '0.' for light material, '1.' for dense material.\n",
    "densityMap   = { lightIndex:0., denseIndex:1. }\n",
    "densityFn    = fn.branching.map( fn_key = materialIndex, mapping = densityMap )\n",
    "\n",
    "# Set a viscosity value of '1.' for both materials.\n",
    "viscosityMap = { lightIndex:1., denseIndex:1. }\n",
    "fn_viscosity  = fn.branching.map( fn_key = materialIndex, mapping = viscosityMap )\n",
    "\n",
    "# Define a vertical unit vector using a python tuple.\n",
    "z_hat = ( 0.0, 1.0 )\n",
    "\n",
    "# Create buoyancy force vector\n",
    "buoyancyFn = -densityFn*z_hat"
   ]
  },
  {
   "cell_type": "markdown",
   "metadata": {
    "deletable": true,
    "editable": true
   },
   "source": [
    "Boundary conditions\n",
    "-----\n",
    "\n",
    "Create free-slip condition on the vertical boundaries, and a no-slip condition on the horizontal boundaries."
   ]
  },
  {
   "cell_type": "code",
   "execution_count": null,
   "metadata": {
    "collapsed": false,
    "deletable": true,
    "editable": true
   },
   "outputs": [],
   "source": [
    "# Construct node sets using the mesh specialSets\n",
    "iWalls = mesh.specialSets[\"MinI_VertexSet\"] + mesh.specialSets[\"MaxI_VertexSet\"]\n",
    "jWalls = mesh.specialSets[\"MinJ_VertexSet\"] + mesh.specialSets[\"MaxJ_VertexSet\"]\n",
    "allWalls = iWalls + jWalls\n",
    "\n",
    "# Prescribe degrees of freedom on each node to be considered Dirichlet conditions.\n",
    "# In the x direction on allWalls flag as Dirichlet\n",
    "# In the y direction on jWalls (horizontal) flag as Dirichlet\n",
    "stokesBC = uw.conditions.DirichletCondition( variable      = velocityField, \n",
    "                                             indexSetsPerDof = (allWalls, jWalls) )"
   ]
  },
  {
   "cell_type": "markdown",
   "metadata": {
    "deletable": true,
    "editable": true
   },
   "source": [
    "Create systems\n",
    "-----"
   ]
  },
  {
   "cell_type": "code",
   "execution_count": null,
   "metadata": {
    "collapsed": false,
    "deletable": true,
    "editable": true
   },
   "outputs": [],
   "source": [
    "stokes = uw.systems.Stokes( velocityField = velocityField, \n",
    "                            pressureField = pressureField,\n",
    "                            voronoi_swarm = swarm, \n",
    "                            conditions    = stokesBC,\n",
    "                            fn_viscosity  = fn_viscosity, \n",
    "                            fn_bodyforce  = buoyancyFn )\n",
    "\n",
    "solver = uw.systems.Solver( stokes )\n",
    "\n",
    "# Optional solver settings\n",
    "if(uw.nProcs()==1):\n",
    "    solver.set_inner_method(\"lu\")\n",
    "    solver.set_penalty(1.0e6) \n",
    "solver.options.scr.ksp_rtol = 1.0e-3\n",
    "\n",
    "# Create a system to advect the swarm\n",
    "advector = uw.systems.SwarmAdvector( swarm=swarm, velocityField=velocityField, order=2 )"
   ]
  },
  {
   "cell_type": "markdown",
   "metadata": {
    "deletable": true,
    "editable": true
   },
   "source": [
    "Time stepping\n",
    "-----"
   ]
  },
  {
   "cell_type": "code",
   "execution_count": null,
   "metadata": {
    "collapsed": false,
    "deletable": true,
    "editable": true
   },
   "outputs": [],
   "source": [
    "# Initialise time and timestep.\n",
    "time = 0.\n",
    "step = 0\n",
    "\n",
    "# We set timeEnd=3 so that the simulation completes quickly, \n",
    "# but generally you will want to set timeEnd~300 to capture \n",
    "# the peak V_rms. \n",
    "timeEnd      = 150.  \n",
    "outputEvery  = 3\n",
    "timeVal     = []\n",
    "vrmsVal     = []\n",
    "\n",
    "# functions for calculating RMS velocity\n",
    "vdotv = fn.math.dot(velocityField,velocityField)\n",
    "v2sum_integral  = uw.utils.Integral( mesh=mesh, fn=vdotv )\n",
    "volume_integral = uw.utils.Integral( mesh=mesh, fn=1. )\n",
    "\n",
    "outfile = open(outputPath+'time.data', 'w+')\n",
    "string = \"steps, time, vrms\"\n",
    "print(string)\n",
    "outfile.write( string+\"\\n\")\n",
    "\n",
    "# Save mesh and retain file handle for future xdmf creation\n",
    "meshFileHandle = mesh.save(outputPath+\"Mesh.h5\")"
   ]
  },
  {
   "cell_type": "code",
   "execution_count": null,
   "metadata": {
    "collapsed": false,
    "deletable": true,
    "editable": true
   },
   "outputs": [],
   "source": [
    "# define an update function\n",
    "def update():\n",
    "    # Retrieve the maximum possible timestep for the advection system.\n",
    "    dt = advector.get_max_dt()\n",
    "    # Advect using this timestep size.\n",
    "    advector.integrate(dt)\n",
    "    return time+dt, step+1"
   ]
  },
  {
   "cell_type": "code",
   "execution_count": null,
   "metadata": {
    "collapsed": false,
    "deletable": true,
    "editable": true
   },
   "outputs": [],
   "source": [
    "while time < timeEnd:\n",
    "    # Get instantaneous Stokes solution\n",
    "    solver.solve()\n",
    "    \n",
    "    # Calculate the RMS velocity.\n",
    "    vrms = math.sqrt( v2sum_integral.evaluate()[0] / volume_integral.evaluate()[0] )\n",
    "    # Record values into arrays\n",
    "    if(uw.rank()==0):\n",
    "        string = 'step = {0:6d}; time = {1:.3e}; v_rms = {2:.3e}'.format(step,time,vrms)      \n",
    "        print(string)\n",
    "        outfile.write(string+\"\\n\")\n",
    "    \n",
    "    # Output to disk\n",
    "    if step%outputEvery == 0:\n",
    "        velFilename = outputPath+\"/velocityField.\"+str(step)\n",
    "        vFH = velocityField.save(velFilename+\".h5\")\n",
    "        velocityField.xdmf( velFilename, vFH, \"velocity\", meshFileHandle, \"Mesh\", time )\n",
    "        \n",
    "        outputFilename = outputPath+\"sr_inv\"+str(step).zfill(4)\n",
    "        fig.save_image(outputFilename)\n",
    "        \n",
    "        outputFilename = outputPath+\"image\"+str(step).zfill(4)\n",
    "        fig1.save_image(outputFilename)\n",
    "\n",
    "    # We are finished with current timestep, update.\n",
    "    time, step = update()\n",
    "    \n",
    "if(uw.rank()==0):\n",
    "    outfile.close()\n",
    "    print 'step = {0:6d}; time = {1:.3e}; v_rms = {2:.3e}'.format(step,time,vrms)"
   ]
  },
  {
   "cell_type": "code",
   "execution_count": null,
   "metadata": {
    "collapsed": false,
    "deletable": true,
    "editable": true,
    "scrolled": false
   },
   "outputs": [],
   "source": [
    "fig1.show()"
   ]
  },
  {
   "cell_type": "code",
   "execution_count": null,
   "metadata": {
    "collapsed": false
   },
   "outputs": [],
   "source": [
    "fig.show()"
   ]
  },
  {
   "cell_type": "markdown",
   "metadata": {
    "collapsed": true
   },
   "source": [
    "**Exercise**\n",
    "\n",
    "1) Experimental with a different material distribution\n",
    "\n",
    "2) Experimental with the gravity field magnitude, how does the time scale change and why?\n",
    "   (Consider limiting the timestep)"
   ]
  },
  {
   "cell_type": "code",
   "execution_count": null,
   "metadata": {
    "collapsed": true
   },
   "outputs": [],
   "source": []
  }
 ],
 "metadata": {
  "kernelspec": {
   "display_name": "Python 2",
   "language": "python",
   "name": "python2"
  },
  "language_info": {
   "codemirror_mode": {
    "name": "ipython",
    "version": 2
   },
   "file_extension": ".py",
   "mimetype": "text/x-python",
   "name": "python",
   "nbconvert_exporter": "python",
   "pygments_lexer": "ipython2",
   "version": "2.7.11+"
  }
 },
 "nbformat": 4,
 "nbformat_minor": 0
}
