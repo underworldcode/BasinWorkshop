{
 "cells": [
  {
   "cell_type": "markdown",
   "metadata": {
    "deletable": true,
    "editable": true
   },
   "source": [
    "# 2D Uplift model\n",
    "\n",
    "This model uses a stress boundary condition to force an uplift.\n",
    "\n",
    "This model also utilises scaling our numbers into dimensionless units.\n",
    "\n",
    "<table><tr><td><img src='../images/uplift_init.png'></td><td><img src='../images/uplift.png'></td></tr></table>\n"
   ]
  },
  {
   "cell_type": "code",
   "execution_count": null,
   "metadata": {
    "collapsed": false,
    "deletable": true,
    "editable": true
   },
   "outputs": [],
   "source": [
    "import numpy as np\n",
    "import underworld as uw\n",
    "import math\n",
    "from underworld import function as fn\n",
    "import glucifer\n",
    "import os\n",
    "\n",
    "from unsupported.scaling import *\n",
    "from unsupported.scaling import nonDimensionalize as nd\n",
    "\n",
    "outputPath='output/'\n",
    "\n",
    "# create outputPath\n",
    "import glob, json, os\n",
    "# make a unique path\n",
    "if os.path.exists(outputPath):\n",
    "    outputPath += '_'+str(len(glob.glob(outputPath+str('*')))-1)\n",
    "\n",
    "# build output dir string\n",
    "if not outputPath.endswith('/'):\n",
    "    outputPath += '/'\n",
    "    \n",
    "# make the output path\n",
    "if not os.path.exists(outputPath):\n",
    "    os.makedirs(outputPath)"
   ]
  },
  {
   "cell_type": "code",
   "execution_count": null,
   "metadata": {
    "collapsed": true,
    "deletable": true,
    "editable": true
   },
   "outputs": [],
   "source": [
    "# reference units\n",
    "KL_meters = 100e3 * u.meter\n",
    "K_viscosity = (1e16 * u.pascal * u.second).to_base_units()\n",
    "K_density = (3.3e3 * u.kilogram / (u.meter)**3 ).to_base_units()"
   ]
  },
  {
   "cell_type": "code",
   "execution_count": null,
   "metadata": {
    "collapsed": false,
    "deletable": true,
    "editable": true
   },
   "outputs": [],
   "source": [
    "KM_kilograms = K_density * KL_meters**3\n",
    "KT_seconds = KM_kilograms / ( KL_meters * K_viscosity )\n",
    "K_substance = 1. * u.mole\n",
    "Kt_degrees = 1. * u.kelvin\n",
    "\n",
    "scaling = {\"[time]\": KT_seconds,\n",
    "           \"[length]\": KL_meters, \n",
    "           \"[mass]\": KM_kilograms,\n",
    "           \"[temperature]\": Kt_degrees,\n",
    "           \"[substance]\": K_substance}"
   ]
  },
  {
   "cell_type": "code",
   "execution_count": null,
   "metadata": {
    "collapsed": false,
    "deletable": true,
    "editable": true
   },
   "outputs": [],
   "source": [
    "# all nondimensional units\n",
    "gravity = nd(9.81 * u.meter / u.second**2, scaling)\n",
    "density = nd( 3300 * u.kilogram / u.meter**3, scaling)\n",
    "viscosity = nd( 1e22 * u.Pa * u.sec, scaling)\n",
    "bulk_visc = nd( 1e11 * u.Pa *u.sec, scaling)"
   ]
  },
  {
   "cell_type": "code",
   "execution_count": null,
   "metadata": {
    "collapsed": false,
    "deletable": true,
    "editable": true
   },
   "outputs": [],
   "source": [
    "Lx = nd( 100e3 * u.meter, scaling)\n",
    "Ly = nd(  60e3 * u.meter, scaling)\n",
    "dx = nd(   5e3 * u.meter, scaling)\n",
    "dy = nd(   5e3 * u.meter, scaling)\n",
    "center = nd(50e3 * u.meter, scaling)\n",
    "width = nd(3e3*u.meter, scaling)"
   ]
  },
  {
   "cell_type": "code",
   "execution_count": null,
   "metadata": {
    "collapsed": true,
    "deletable": true,
    "editable": true
   },
   "outputs": [],
   "source": [
    "lithostaticPressure = 0.6*Ly*density*gravity"
   ]
  },
  {
   "cell_type": "code",
   "execution_count": null,
   "metadata": {
    "collapsed": false,
    "deletable": true,
    "editable": true
   },
   "outputs": [],
   "source": [
    "resUnit = 5\n",
    "boxLength = Lx\n",
    "boxHeight = Ly\n",
    "elType = \"Q1/dQ0\"\n",
    "resx = 100\n",
    "resy = 60\n",
    "minCoord = [0.,0.]\n",
    "maxCoord = [boxLength,boxHeight]"
   ]
  },
  {
   "cell_type": "code",
   "execution_count": null,
   "metadata": {
    "collapsed": false,
    "deletable": true,
    "editable": true
   },
   "outputs": [],
   "source": [
    "mesh = uw.mesh.FeMesh_Cartesian( elementType = (elType), \n",
    "                                 elementRes  = (resx, resy), \n",
    "                                 minCoord    = minCoord, \n",
    "                                 maxCoord    = maxCoord )\n",
    "\n",
    "velocityField = uw.mesh.MeshVariable( mesh=mesh,         nodeDofCount=mesh.dim )\n",
    "stressField   = uw.mesh.MeshVariable( mesh=mesh,         nodeDofCount=3 )\n",
    "pressureField = uw.mesh.MeshVariable( mesh=mesh.subMesh, nodeDofCount=1 )"
   ]
  },
  {
   "cell_type": "code",
   "execution_count": null,
   "metadata": {
    "collapsed": false,
    "deletable": true,
    "editable": true
   },
   "outputs": [],
   "source": [
    "velocityField.data[:] = [0.,0.]\n",
    "pressureField.data[:] = 0.\n",
    "stressField.data[:] = [0.0,0.0,0.0]\n",
    "\n",
    "for ii in mesh.specialSets['MinJ_VertexSet']:\n",
    "    coord = mesh.data[ii]\n",
    "    stressField.data[ii] = [0.0,-lithostaticPressure*(1.+0.2*np.exp((-1/width*(coord[0]-center)**2))), 0.0]\n",
    "#     stressField.data[ii] = [0.0,-lithostaticPressure*(1.+0.2*np.sin(coord[0]*(2.*np.pi)) ), 0.0]"
   ]
  },
  {
   "cell_type": "code",
   "execution_count": null,
   "metadata": {
    "collapsed": false,
    "deletable": true,
    "editable": true
   },
   "outputs": [],
   "source": [
    "# visualise the bottom stress condition\n",
    "if uw.rank() == 0:\n",
    "    uw.matplotlib_inline()\n",
    "    import matplotlib.pyplot as pyplot\n",
    "    import matplotlib.pylab as pylab\n",
    "    pyplot.ion()\n",
    "    pylab.rcParams[ 'figure.figsize'] = 12, 6\n",
    "    xcoord = Dimensionalize(mesh.data[mesh.specialSets['MinJ_VertexSet'].data][:,0],scaling, u.kilometer)\n",
    "    stress = Dimensionalize(stressField.data[mesh.specialSets['MinJ_VertexSet'].data][:,1], scaling, u.gigaPa)\n",
    "    pyplot.plot( xcoord, stress, 'o', color = 'black', label='numerical') \n",
    "    pyplot.xlabel('Y coords: km')\n",
    "    pyplot.ylabel('Pressure: GPa')\n",
    "    pyplot.show()"
   ]
  },
  {
   "cell_type": "code",
   "execution_count": null,
   "metadata": {
    "collapsed": false,
    "deletable": true,
    "editable": true
   },
   "outputs": [],
   "source": [
    "# Initialise a swarm.\n",
    "swarm = uw.swarm.Swarm( mesh=mesh, particleEscape=True )\n",
    "advector= uw.systems.SwarmAdvector(velocityField, swarm, order=2)\n",
    "\n",
    "# Add a data variable which will store an index to determine material.\n",
    "materialVariable = swarm.add_variable( dataType=\"double\", count=1 )\n",
    "\n",
    "# Create a layout object that will populate the swarm across the whole domain.\n",
    "swarmLayout = uw.swarm.layouts.PerCellSpaceFillerLayout( swarm=swarm, particlesPerCell=20 )\n",
    "# Populate.\n",
    "swarm.populate_using_layout( layout=swarmLayout )\n",
    "\n",
    "materialVariable.data[:]=0\n",
    "for index,coord in enumerate(swarm.particleCoordinates.data):\n",
    "    if coord[1] < boxHeight*0.6:\n",
    "        materialVariable.data[index]=1\n",
    "\n",
    "# population control regulars particle creation and deletion\n",
    "# important for inflow/outflow problems\n",
    "population_control = uw.swarm.PopulationControl(swarm, \n",
    "                                                aggressive=True,splitThreshold=0.15, maxDeletions=2,maxSplits=10,\n",
    "                                                particlesPerCell=20)\n",
    "\n",
    "# build tracer swarm for fluid level\n",
    "mswarm = uw.swarm.Swarm( mesh=mesh, particleEscape=True )\n",
    "# msAdvector= uw.systems.SwarmAdvector(velocityField, mswarm, order=2)\n",
    "\n",
    "# initial height at 'air' level\n",
    "particleCoordinates = np.zeros((100,2))\n",
    "particleCoordinates[:,0] = np.linspace(0.0, Lx, len(particleCoordinates))#0.5*Lx\n",
    "particleCoordinates[:,1] = 0.6*Ly\n",
    "ignore=mswarm.add_particles_with_coordinates(particleCoordinates)"
   ]
  },
  {
   "cell_type": "code",
   "execution_count": null,
   "metadata": {
    "collapsed": false,
    "deletable": true,
    "editable": true
   },
   "outputs": [],
   "source": [
    "# create a scaling factor\n",
    "cm_per_year = Dimensionalize(1,scaling,u.centimeter/u.year)\n",
    "\n",
    "fig1 = glucifer.Figure(rulers=True, boundingBox=((0.0, 0.0), (Lx, Ly)))\n",
    "fig1.append( glucifer.objects.Points(swarm, materialVariable, fn_size=2., colourBar=False ) )\n",
    "fig1.append( glucifer.objects.Points(mswarm, fn.misc.constant(0.0), fn_size=4., colours=\"black\",colourBar=False) )\n",
    "fig1.append( glucifer.objects.VectorArrows(mesh, cm_per_year.magnitude*0.1*velocityField) )\n",
    "\n",
    "fig1.show()"
   ]
  },
  {
   "cell_type": "code",
   "execution_count": null,
   "metadata": {
    "collapsed": false,
    "deletable": true,
    "editable": true
   },
   "outputs": [],
   "source": [
    "# Lambda = materialVariable * fn.misc.constant(10.0) -  is created for pseudo compressibility\n",
    "lambdaFn = uw.function.branching.map( fn_key=materialVariable, \n",
    "                                    mapping={ 0: bulk_visc, 1: 0.0 } )\n",
    "\n",
    "densityFn = uw.function.branching.map( fn_key=materialVariable, \n",
    "                                    mapping={ 0: 0.0, 1: density } )\n",
    "\n",
    "forceFn = densityFn * (0.0,-gravity)"
   ]
  },
  {
   "cell_type": "code",
   "execution_count": null,
   "metadata": {
    "collapsed": false,
    "deletable": true,
    "editable": true
   },
   "outputs": [],
   "source": [
    "iWalls = mesh.specialSets[\"MinI_VertexSet\"] + mesh.specialSets[\"MaxI_VertexSet\"]\n",
    "jWalls = mesh.specialSets[\"MinJ_VertexSet\"] + mesh.specialSets[\"MaxJ_VertexSet\"]\n",
    "bottomWall = mesh.specialSets[\"MinJ_VertexSet\"]\n",
    "allWalls = iWalls + jWalls\n",
    "\n",
    "# Now, using these sets, decide which degrees of freedom (on each node) should be considered Dirichlet.\n",
    "stokesBC = uw.conditions.DirichletCondition( variable      = velocityField, \n",
    "                                             indexSetsPerDof = (iWalls, jWalls-bottomWall) )\n",
    "\n",
    "# add neumann bcs\n",
    "nbc      = uw.conditions.NeumannCondition( flux=stressField, variable = velocityField, \n",
    "                                             nodeIndexSet = bottomWall )"
   ]
  },
  {
   "cell_type": "markdown",
   "metadata": {
    "deletable": true,
    "editable": true
   },
   "source": [
    "**Create a Stokes system**"
   ]
  },
  {
   "cell_type": "code",
   "execution_count": null,
   "metadata": {
    "collapsed": false,
    "deletable": true,
    "editable": true
   },
   "outputs": [],
   "source": [
    "stokesPIC = uw.systems.Stokes( velocityField = velocityField, \n",
    "                               pressureField = pressureField,\n",
    "                               conditions    = [stokesBC, nbc],\n",
    "                               fn_viscosity  = viscosity, \n",
    "                               fn_bodyforce  = forceFn,\n",
    "                               fn_lambda     = lambdaFn )\n",
    "solver = uw.systems.Solver( stokesPIC )\n",
    "solver.set_inner_method(\"lu\")"
   ]
  },
  {
   "cell_type": "code",
   "execution_count": null,
   "metadata": {
    "collapsed": true,
    "deletable": true,
    "editable": true
   },
   "outputs": [],
   "source": [
    "vdotv = fn.math.dot(velocityField,velocityField)\n",
    "v2sum_integral  = uw.utils.Integral( mesh=mesh, fn=vdotv )\n",
    "volume_integral = uw.utils.Integral( mesh=mesh, fn=1. )\n",
    "velmag = fn.math.sqrt(vdotv)\n",
    "\n",
    "tracer_height = fn.view.min_max(fn.coord()[1]) # parallel safe"
   ]
  },
  {
   "cell_type": "code",
   "execution_count": null,
   "metadata": {
    "collapsed": false,
    "deletable": true,
    "editable": true
   },
   "outputs": [],
   "source": [
    "steps         = 0\n",
    "time          = 0\n",
    "finalTime     = nd(2 * u.megayear, scaling)\n",
    "\n",
    "fieldDict = {'velocity':velocityField, 'pressure':pressureField}\n",
    "swarmDict = {'material':materialVariable}"
   ]
  },
  {
   "cell_type": "code",
   "execution_count": null,
   "metadata": {
    "collapsed": false,
    "deletable": true,
    "editable": true,
    "scrolled": true
   },
   "outputs": [],
   "source": [
    "outfile = open(outputPath+'buildMount.txt', 'w+')\n",
    "string = \"steps, timestep, vrms, change in peak height\"\n",
    "print(string)\n",
    "outfile.write( string+\"\\n\")\n",
    "\n",
    "# initialise loop\n",
    "dt = -1\n",
    "\n",
    "tracer_height.evaluate(mswarm)\n",
    "h1 = tracer_height.max_global()\n",
    "\n",
    "while time<finalTime:\n",
    "    # Get solution\n",
    "    solver.solve()\n",
    "    \n",
    "    # calculate metrics\n",
    "    v2int = v2sum_integral.evaluate()[0]\n",
    "    vol   = volume_integral.evaluate()[0]\n",
    "    \n",
    "    # get time step first time around\n",
    "    if dt < 0:\n",
    "        dt = advector.get_max_dt()\n",
    "    h0 = h1\n",
    "    \n",
    "    fig1.save(outputPath+\"particals-\"+str(steps)+\".png\")\n",
    "\n",
    "    # update peak heigh\n",
    "    tracer_height.evaluate(mswarm)\n",
    "    h1 = tracer_height.max_global()\n",
    "    \n",
    "    diffH = h1-h0\n",
    "    string = \"{}, {}, {}, {}\".format(steps,\n",
    "                                     Dimensionalize(dt, scaling, u.year),\n",
    "                                     Dimensionalize(np.sqrt(v2int/vol), scaling, u.cm/u.year),\n",
    "                                     Dimensionalize(diffH,scaling, u.metre) )\n",
    "    print(string)\n",
    "    outfile.write(string+\"\\n\")\n",
    "    \n",
    "    # Advect particles   \n",
    "    advector.integrate(dt)  \n",
    "#     msAdvector.integrate(dt)\n",
    "\n",
    "    # by hand advection. Not parallel safe ... fix pending\n",
    "    with mswarm.deform_swarm():\n",
    "        mswarm.particleCoordinates.data[:,1] += dt*velocityField.evaluate(mswarm)[:,1]\n",
    "\n",
    "        \n",
    "    # population control\n",
    "    population_control.repopulate()\n",
    "    \n",
    "    steps += 1\n",
    "    time += dt\n",
    "\n",
    "\n",
    "outfile.close()"
   ]
  },
  {
   "cell_type": "code",
   "execution_count": null,
   "metadata": {
    "collapsed": false,
    "deletable": true,
    "editable": true
   },
   "outputs": [],
   "source": [
    "fig2 = glucifer.Figure()\n",
    "fig2.append( glucifer.objects.Surface(mesh, cm_per_year.magnitude*velmag) )\n",
    "\n",
    "fig2.show()"
   ]
  },
  {
   "cell_type": "code",
   "execution_count": null,
   "metadata": {
    "collapsed": false,
    "deletable": true,
    "editable": true
   },
   "outputs": [],
   "source": [
    "fig1.show()"
   ]
  },
  {
   "cell_type": "code",
   "execution_count": null,
   "metadata": {
    "collapsed": false,
    "deletable": true,
    "editable": true
   },
   "outputs": [],
   "source": [
    "# visualise the bottom stress condition\n",
    "if uw.rank() == 0:\n",
    "    uw.matplotlib_inline()\n",
    "    import matplotlib.pyplot as pyplot\n",
    "    import matplotlib.pylab as pylab\n",
    "    pyplot.ion()\n",
    "    pylab.rcParams[ 'figure.figsize'] = 12, 6\n",
    "    xcoord = Dimensionalize(mswarm.particleCoordinates.data[:,0], scaling, u.kilometer)\n",
    "    ycoord = Dimensionalize(mswarm.particleCoordinates.data[:,1], scaling, u.kilometer)\n",
    "    pyplot.plot( xcoord, ycoord, 'o', color = 'black', label='numerical') \n",
    "    pyplot.xlabel('X coord: km')\n",
    "    pyplot.ylabel('Y coord: km')\n",
    "    pyplot.show()"
   ]
  },
  {
   "cell_type": "markdown",
   "metadata": {
    "collapsed": true,
    "deletable": true,
    "editable": true
   },
   "source": [
    "**Exercise:** \n",
    "1. Change the stress boundary condition and watch the topography change"
   ]
  },
  {
   "cell_type": "code",
   "execution_count": null,
   "metadata": {
    "collapsed": true
   },
   "outputs": [],
   "source": []
  }
 ],
 "metadata": {
  "kernelspec": {
   "display_name": "Python 2",
   "language": "python",
   "name": "python2"
  },
  "language_info": {
   "codemirror_mode": {
    "name": "ipython",
    "version": 2
   },
   "file_extension": ".py",
   "mimetype": "text/x-python",
   "name": "python",
   "nbconvert_exporter": "python",
   "pygments_lexer": "ipython2",
   "version": "2.7.11+"
  }
 },
 "nbformat": 4,
 "nbformat_minor": 0
}
