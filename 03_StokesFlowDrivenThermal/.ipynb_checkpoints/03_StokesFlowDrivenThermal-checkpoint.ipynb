{
 "cells": [
  {
   "cell_type": "markdown",
   "metadata": {
    "deletable": true,
    "editable": true
   },
   "source": [
    "## Buoyancy driven flow \n",
    "\n",
    "Here we interpret buoyancy as having come from a thermal perturbation (not scaled)\n",
    "\n",
    "**New concepts:** Different mesh types, initialising fields with numpy, a buoyancy _function_, \n",
    "\n",
    "\n",
    "**Stokes Flow**\n",
    "\\\\[\n",
    "\\begin{aligned}\n",
    "\\tau_{ij,j} -  p_{,i} &= f_i && \\text{ on } && \\Omega \\\\\n",
    "u_{i,i}&=0  && \\text{ on } && \\Omega \\\\\n",
    "u_i &= \\bar{u_i} && \\text{ on } && \\partial\\Omega \\\\\n",
    "\\end{aligned}\n",
    "\\\\]\n",
    "\n",
    "\n",
    "- $\\tau$ : deviatoric stress tensor\n",
    "- $u$ : velocity\n",
    "- $p$ : pressure\n",
    "- $f$ : body force\n",
    "- $\\bar{u}$ : velocity boundary condition"
   ]
  },
  {
   "cell_type": "markdown",
   "metadata": {},
   "source": [
    "![Results](../images/tempVel.png)"
   ]
  },
  {
   "cell_type": "code",
   "execution_count": null,
   "metadata": {
    "collapsed": true,
    "deletable": true,
    "editable": true
   },
   "outputs": [],
   "source": [
    "import underworld as uw\n",
    "from underworld import function as fn\n",
    "import glucifer\n",
    "import numpy as np\n",
    "\n",
    "outputPath = 'output'\n",
    "\n",
    "# create outputPath\n",
    "import glob, json, os\n",
    "# make a unique path\n",
    "if os.path.exists(outputPath):\n",
    "    outputPath += '_'+str(len(glob.glob(outputPath+str('*')))-1)\n",
    "\n",
    "# build output dir string\n",
    "if not outputPath.endswith('/'):\n",
    "    outputPath += '/'\n",
    "    \n",
    "# make the output path\n",
    "if not os.path.exists(outputPath):\n",
    "    os.makedirs(outputPath)"
   ]
  },
  {
   "cell_type": "code",
   "execution_count": null,
   "metadata": {
    "collapsed": true,
    "deletable": true,
    "editable": true
   },
   "outputs": [],
   "source": [
    "res = 32\n",
    "boxHeight = 1.0\n",
    "aspect_ratio = 1.0"
   ]
  },
  {
   "cell_type": "code",
   "execution_count": null,
   "metadata": {
    "collapsed": false,
    "deletable": true,
    "editable": true
   },
   "outputs": [],
   "source": [
    "# A mesh to solve velocity and pressure\n",
    "\n",
    "VPmesh = uw.mesh.FeMesh_Cartesian( elementType = (\"Q1/dQ0\"), \n",
    "                                   elementRes  = (int(res * aspect_ratio), res), \n",
    "                                   minCoord    = (0., 0.), \n",
    "                                   maxCoord    = (boxHeight*aspect_ratio, boxHeight))\n",
    "\n",
    "# Another use case of functions... a different mesh\n",
    "Tmesh = uw.mesh.FeMesh_Cartesian( elementType = (\"Q1\"), \n",
    "                                  elementRes  = (int(0.5*res * aspect_ratio), int(0.5*res )), \n",
    "                                  minCoord    = (0., 0.), \n",
    "                                  maxCoord    = (boxHeight*aspect_ratio, boxHeight))\n",
    "# Tmesh = VPmesh\n",
    "\n",
    "velocityField    = uw.mesh.MeshVariable( mesh=VPmesh,         nodeDofCount=2 ) # vector\n",
    "pressureField    = uw.mesh.MeshVariable( mesh=VPmesh.subMesh, nodeDofCount=1 ) # scalar\n",
    "temperatureField = uw.mesh.MeshVariable( mesh=Tmesh,          nodeDofCount=1 ) # scalar\n",
    "\n",
    "velocityField.data[:,:] = 0.0\n",
    "pressureField.data[:] = 0.0\n",
    "\n",
    "# coordinate function\n",
    "xcoordFn = fn.coord()[0]\n",
    "ycoordFn = fn.coord()[1]\n",
    "\n",
    "tempFn = fn.math.cos(xcoordFn * np.pi)*fn.math.sin(ycoordFn * np.pi)\n",
    "\n",
    "# 'evaluate' now!\n",
    "temperatureField.data[:] = tempFn.evaluate(temperatureField.mesh)\n",
    "\n",
    "# The functions above are equivalent to the following\n",
    "# temperatureField.data[:,0] = np.cos(Tmesh.data[:,0] * np.pi ) * np.sin(Tmesh.data[:,1] * np.pi)\n",
    "\n",
    "# by using underworld functions: \n",
    "# 1) the operation is parallel safe. With numpy not the case!\n",
    "# 2) performed using the data we give - could we do the operation on the VPmesh?\n",
    "# 3) have a function descrption available for later on."
   ]
  },
  {
   "cell_type": "code",
   "execution_count": null,
   "metadata": {
    "collapsed": false
   },
   "outputs": [],
   "source": [
    "# tempFn can be evaluate on raw coordinates as numpy array... automatic interpolation\n",
    "inp = np.array( [\n",
    "        (0.0,0.5), \n",
    "        (0.5,0.5) ])\n",
    "tempFn.evaluate(inp)"
   ]
  },
  {
   "cell_type": "code",
   "execution_count": null,
   "metadata": {
    "collapsed": true,
    "deletable": true,
    "editable": true
   },
   "outputs": [],
   "source": [
    "# Boundary conditions - free slip everywhere\n",
    "\n",
    "vxWalls = VPmesh.specialSets[\"MinI_VertexSet\"] + \\\n",
    "          VPmesh.specialSets[\"MaxI_VertexSet\"] \n",
    "\n",
    "vyWalls = VPmesh.specialSets[\"MinJ_VertexSet\"] + \\\n",
    "          VPmesh.specialSets[\"MaxJ_VertexSet\"]\n",
    "\n",
    "velocityBC = uw.conditions.DirichletCondition( variable = velocityField, \n",
    "                                               indexSetsPerDof = (vxWalls, vyWalls) )"
   ]
  },
  {
   "cell_type": "code",
   "execution_count": null,
   "metadata": {
    "collapsed": false,
    "deletable": true,
    "editable": true
   },
   "outputs": [],
   "source": [
    "## Need a buoyancy function in the Stokes' solver\n",
    "\n",
    "thermal_buoyancy = temperatureField * (0.0, 1.0)\n",
    " \n",
    "stokesPIC = uw.systems.Stokes( velocityField  = velocityField, \n",
    "                               pressureField  = pressureField,\n",
    "                               conditions     = [velocityBC,],\n",
    "                               fn_viscosity   = 1.0, \n",
    "                               fn_bodyforce   = thermal_buoyancy )\n",
    "\n",
    "\n",
    "solver = uw.systems.Solver( stokesPIC )\n",
    "\n",
    "solver.solve()"
   ]
  },
  {
   "cell_type": "markdown",
   "metadata": {},
   "source": [
    "In the above a standard mixed Galerkin FEM is applied via the **`Stokes Flow`** equation to generate a system of the form:\n",
    "\n",
    "\\\\[\n",
    "\\begin{bmatrix}\n",
    " K & G \\\\\n",
    " G^T & 0\n",
    "\\end{bmatrix}\n",
    "\\begin{bmatrix}\n",
    "  u\\\\\n",
    "  p\n",
    "\\end{bmatrix}\n",
    "=\n",
    "\\begin{bmatrix}\n",
    " f\\\\ \n",
    " 0\n",
    "\\end{bmatrix}.\n",
    "\\\\]\n",
    "\n",
    "where\n",
    "- $K$ : the constitutive matrix, a function of `fn_viscosity`\n",
    "- $u$ : velocity\n",
    "- $p$ : pressure\n",
    "- $f$ : body force, a function of `fn_bodyforce`\n",
    "- $\\bar{u}$ : velocity boundary condition, i.e. `velocityBC`\n",
    "\n",
    "This system is solved using the **`Solver`** object."
   ]
  },
  {
   "cell_type": "code",
   "execution_count": null,
   "metadata": {
    "collapsed": false,
    "deletable": true,
    "editable": true
   },
   "outputs": [],
   "source": [
    "fig2 = glucifer.Figure()\n",
    "fig2.append( glucifer.objects.VectorArrows( VPmesh, velocityField, arrowHead=0.35, scaling=3.0 ) )\n",
    "fig2.append( glucifer.objects.Surface( VPmesh, temperatureField ) )\n",
    "fig2.show()"
   ]
  },
  {
   "cell_type": "markdown",
   "metadata": {
    "collapsed": true,
    "deletable": true,
    "editable": true
   },
   "source": [
    "## Things to try\n",
    "\n",
    "\n",
    "- Does the temperature mesh have to be the same element type / resolution as the velocity mesh ?\n",
    "- Experiment with a different temperature field to drive the fluid flow"
   ]
  },
  {
   "cell_type": "code",
   "execution_count": null,
   "metadata": {
    "collapsed": true,
    "deletable": true,
    "editable": true
   },
   "outputs": [],
   "source": []
  }
 ],
 "metadata": {
  "kernelspec": {
   "display_name": "Python 2",
   "language": "python",
   "name": "python2"
  },
  "language_info": {
   "codemirror_mode": {
    "name": "ipython",
    "version": 2
   },
   "file_extension": ".py",
   "mimetype": "text/x-python",
   "name": "python",
   "nbconvert_exporter": "python",
   "pygments_lexer": "ipython2",
   "version": "2.7.11+"
  }
 },
 "nbformat": 4,
 "nbformat_minor": 0
}
