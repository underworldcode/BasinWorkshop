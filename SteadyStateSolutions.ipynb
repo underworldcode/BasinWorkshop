{
 "cells": [
  {
   "cell_type": "markdown",
   "metadata": {},
   "source": [
    "# Demonstrating Underworld 2"
   ]
  },
  {
   "cell_type": "markdown",
   "metadata": {},
   "source": [
    "Underworld basics:\n",
    "-----\n",
    " * An open-source, parallel FEM and PIC code, with visualisation by glucifer\n",
    " * Underworld, over 10+ years of development, many community interactions.\n",
    " * Underworld 2 has two layers of code - still 'beta'\n",
    "   * 1) c/c++ layer for speed\n",
    "   * 2) python layer for user interaction"
   ]
  },
  {
   "cell_type": "markdown",
   "metadata": {},
   "source": [
    "Points to cover in this demonstration\n",
    "-------\n",
    "* **Readability and flexibility of the Python interface**  \n",
    "   More concise and robust user experience; realtime interactivity with jupyter notebooks.\n",
    "\n",
    "* **Direct access to discretisation data (e.g field values) via Numpy**  \n",
    "   From python one can read, manipulate and write to the memory used by the underlying c layer.\n",
    "\n",
    "* **User Patterns**  \n",
    "   The mesh, field and swarm data structures have similar user patterns."
   ]
  },
  {
   "cell_type": "markdown",
   "metadata": {
    "slideshow": {
     "slide_type": "fragment"
    }
   },
   "source": [
    "Solving the Steady State Heat Equation with Underworld\n",
    "------\n",
    "\n",
    "\\\\[ \n",
    "\\nabla \\cdot ( k \\nabla T )= 0\n",
    "\\\\]\n",
    "where $ k$  is diffusivity and $T$ is the temperature.  \n",
    "Over the 2D domain given by\n",
    "\n",
    "\\\\[\n",
    " 0 \\leq x \\leq 1\n",
    "\\\\]\n",
    "\\\\[\n",
    "0 \\leq y \\leq 1\n",
    "\\\\]\n",
    "\n",
    "with the boundary conditions\n",
    "\n",
    "\\\\[\n",
    " T(0, y) = 1\n",
    "\\\\]\n",
    "\\\\[\n",
    "T(1, y) = 0\n",
    "\\\\]\n",
    "$$\n",
    "0 \\leq y \\leq 1\n",
    "$$\n"
   ]
  },
  {
   "cell_type": "markdown",
   "metadata": {},
   "source": [
    "To solve the above problem with Underworld's FEM python module we flow the workflow:\n",
    " 1. Define the discretisation domain.\n",
    " 2. Define the model unknowns and parameters, in this case temperature and diffusivity.\n",
    " 3. Pass the above data to Underowrld's `SteadyStateHeat` equation system and solve.\n",
    " \n",
    "The glucifer package is used to visualise the model."
   ]
  },
  {
   "cell_type": "code",
   "execution_count": 1,
   "metadata": {
    "collapsed": false
   },
   "outputs": [],
   "source": [
    "# import the underworld and glucifer modules\n",
    "import underworld as uw\n",
    "import glucifer"
   ]
  },
  {
   "cell_type": "markdown",
   "metadata": {},
   "source": [
    "**Note:** Features of the ipython environment\n",
    " * `tab-completion` for exploring module attributes\n",
    " * `shift+tab` for function signitures and documentation.\n",
    " \n",
    "for more on ipython usage http://ipython.readthedocs.org/en/stable/interactive/tutorial.html"
   ]
  },
  {
   "cell_type": "code",
   "execution_count": 2,
   "metadata": {
    "collapsed": false
   },
   "outputs": [],
   "source": [
    "# create a FEM mesh and a MeshVariable\n",
    "mesh = uw.mesh.FeMesh_Cartesian( elementType = (\"Q1\"), \n",
    "                                 elementRes  = (4, 4), \n",
    "                                 minCoord    = (0., 0.), \n",
    "                                 maxCoord    = (1., 1.)  )\n",
    "\n",
    "# the numerical temperature field\n",
    "tField = uw.mesh.MeshVariable( mesh=mesh, nodeDofCount=1 ) "
   ]
  },
  {
   "cell_type": "code",
   "execution_count": 3,
   "metadata": {
    "collapsed": false,
    "scrolled": false
   },
   "outputs": [
    {
     "data": {
      "text/html": [
       "<img src='data:image/png;base64,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'>"
      ],
      "text/plain": [
       "<IPython.core.display.HTML object>"
      ]
     },
     "execution_count": 3,
     "metadata": {},
     "output_type": "execute_result"
    }
   ],
   "source": [
    "# visualise the mesh\n",
    "fig = glucifer.Figure()\n",
    "fig.append(glucifer.objects.Mesh(mesh=mesh, nodeNumbers=True ) )\n",
    "fig.show()"
   ]
  },
  {
   "cell_type": "code",
   "execution_count": 4,
   "metadata": {
    "collapsed": false
   },
   "outputs": [
    {
     "name": "stdout",
     "output_type": "stream",
     "text": [
      "['MaxI_VertexSet', 'MinI_VertexSet', 'AllWalls_VertexSet', 'MinJ_VertexSet', 'MaxJ_VertexSet', 'Empty']\n"
     ]
    }
   ],
   "source": [
    "# explore the mesh's index sets\n",
    "print mesh.specialSets.keys()"
   ]
  },
  {
   "cell_type": "code",
   "execution_count": 5,
   "metadata": {
    "collapsed": false
   },
   "outputs": [
    {
     "name": "stdout",
     "output_type": "stream",
     "text": [
      "The right wall nodes are:  FeMesh_IndexSet([ 4,  9, 14, 19, 24])\n",
      "The top wall nodes are  :  FeMesh_IndexSet([20, 21, 22, 23, 24])\n"
     ]
    }
   ],
   "source": [
    "print \"The right wall nodes are: \", mesh.specialSets['MaxI_VertexSet']\n",
    "print \"The top wall nodes are  : \", mesh.specialSets[\"MaxJ_VertexSet\"]"
   ]
  },
  {
   "cell_type": "code",
   "execution_count": 6,
   "metadata": {
    "collapsed": false
   },
   "outputs": [],
   "source": [
    "# initialise the mesh with the boundary conditions\n",
    "for ii in mesh.specialSets['MinI_VertexSet']:\n",
    "    tField.data[ii] = 1.0\n",
    "    \n",
    "for ii in mesh.specialSets['MaxI_VertexSet']:\n",
    "    tField.data[ii] = 0.0"
   ]
  },
  {
   "cell_type": "code",
   "execution_count": 7,
   "metadata": {
    "collapsed": false,
    "scrolled": false
   },
   "outputs": [
    {
     "data": {
      "text/html": [
       "<img src='data:image/png;base64,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'>"
      ],
      "text/plain": [
       "<IPython.core.display.HTML object>"
      ]
     },
     "execution_count": 7,
     "metadata": {},
     "output_type": "execute_result"
    }
   ],
   "source": [
    "# visualise the new field\n",
    "fig.append(glucifer.objects.Surface(mesh=mesh, fn=tField, colours=('blue white red')) )\n",
    "fig.show()"
   ]
  },
  {
   "cell_type": "code",
   "execution_count": 8,
   "metadata": {
    "collapsed": false
   },
   "outputs": [],
   "source": [
    "# assign which nodese remain boundary conditions\n",
    "wallSet = mesh.specialSets['MinI_VertexSet'] + mesh.specialSets['MaxI_VertexSet']\n",
    "flaggedBCs = uw.conditions.DirichletCondition(tField, indexSetsPerDof=(wallSet,) )"
   ]
  },
  {
   "cell_type": "code",
   "execution_count": 9,
   "metadata": {
    "collapsed": true
   },
   "outputs": [],
   "source": [
    "# diffusivity, either defined as a number or as a 'Function object'\n",
    "type_k = 'constant' # 'constant', linear', 'nonlinear' # CHANGE HERE\n",
    "if type_k == 'constant':\n",
    "    diffusivity = uw.function.misc.constant(1.) \n",
    "elif type_k == 'linear':\n",
    "    alpha = uw.function.misc.constant(3.0)\n",
    "    beta = uw.function.misc.constant(1.0)\n",
    "    # diffusivity = (alpha*x + beta)^-1\n",
    "    diffusivity = uw.function.math.pow( alpha * uw.function.coord()[0] + beta, -1.0 )\n",
    "elif type_k == 'nonlinear':    \n",
    "    diffusivity = tField + 1.0"
   ]
  },
  {
   "cell_type": "code",
   "execution_count": 10,
   "metadata": {
    "collapsed": false
   },
   "outputs": [],
   "source": [
    "# define a systems class with the python objects describing the model \n",
    "ss = uw.systems.SteadyStateHeat( temperatureField = tField,\n",
    "                                 fn_diffusivity = diffusivity,\n",
    "                                 conditions=[flaggedBCs] )\n",
    "# ask for the default solver\n",
    "solver = uw.systems.Solver(ss)\n",
    "\n",
    "solver.solve() # solve it"
   ]
  },
  {
   "cell_type": "code",
   "execution_count": 11,
   "metadata": {
    "collapsed": false,
    "scrolled": false
   },
   "outputs": [
    {
     "data": {
      "text/html": [
       "<img src='data:image/png;base64,iVBORw0KGgoAAAANSUhEUgAAAoAAAAHgCAIAAAC6s0uzAAAQq0lEQVR42u3dbVMT5x7A4fvO8KIGDkUJtJ/xiDxYSdDOqDPOoQItT7XnfEYedCwa7Eyn3OfFRpJsHtiEEAlc1+RFsq3I/tnsj91sYkwpBQBgvEpGAAACDAACDAAIMAAIMAAgwAAgwACAAAOAAAMAAgwAAgwAAgwACDAACDAAIMAAIMAAgAADgAADAAIMAAIMAAIMAAgwAAgwACDAACDAAIAAA4AAAwACDAACDAACDAAIMADcPVNGMEIxRkMA7qqUkiEI8C3eQGMMrbdSKfRfUuRh68Ih/nju/tBfrfOLFP//+z6Mb96k169HM6tea3qdlS3ygxjzt1cqpRBKU1P//H2RQkwhXFyElJq34R523inyMLcku9+55Ft9e51/+6tX8eXLNJKV7Vzf66xs1y8y9Mp2/iCuvbIOMEbMKWgAEGAAEGAAQIABQIABAAEGAAEGAAQYAAQYAAg+CWucYr1+eT/NzTUWnp42lvzwgxHlJ1arNSf222/N5cvLIYT0xx9G1Klcbnxc0dlZ41MDHz5sfoDR8bGPEsx7+7Yxn/X1xnD29poTW1oysY4n5tfP3O38ZMoYo4+rdAR8+zbZ8/MQQpqZSbOzzYUfPoQQ0sJCWlyMR0em1Cltb6ednbZJrqwYSy8PHsTz81SvpxDC7GyzIu/fp9NTu8UuNjfjxkaq1VIIYWenObHV1bSykkII7975/MUuic3kPv3eh+EL8C1uyfR0l4WVisl0f54/f9728KefGhM7OEiHh+bT36dPjdzOzbXtExcX7SK7q1abv6CsrTXuLy/7rWWwMJvDQJyCHld9y2VDGGxiv/wSSs1fEFtPQdPLly+NfeC//tUI7cePKftI/czxsZ1kmxcvUjac7e0uv5ocHsalJRNrf2IahwBP8O+JZ2eGMNjE1tcNYSDT0zGEcHbWtqusVBz7XmF9vTmx/f2YHQFf/u5Cn0Neh78CPAmb7OfPIYT0/fdGUXRi1WoIIf36q1EM5NOntv3h/HwMIZyc2El2t7UVq9W24ayuppTCwUEMITx+bGrqeyO8BjzGTbZeDyG0XoRFEbmLsOivXI7ZRVg5LsLq5e3bmF2E1clrwL3q27kkE1yK5Qj4Nm6yX6+CNooBhlarpe1tcyguuwo6dzTy8GF8/94hSnfZVdCtw9ndjdkRsOH0qW/ryFrvOxoW4Fu87X7+3Nhk5+ZCCOnRI+8D7jmr58/D11PQjRHt7RlLH999F0PL+4BDCH/+mbKroLNT0JmjI/vH/BHw5f1nz9LTp2l3N2avAYcQXITV/yDYdAR4AqRyOcQYYgylUmg5RZMqlcZychPLroLOhtMxovT770aU89dfKaWQ3S4uGncur4K+/E92mK2yq6Bzw1lba5skbU+9vhuQHg/Ea8AAIMAAIMAAgAADgAADAAIMAAIMAAgwAAgwACDAACDAACDAAIAAA4AAAwACDAACDAAIMAAIMAAgwAAgwAAgwACAAAOAAAMAAgwAAgwACDAACDAAIMAAIMAAIMAAgAADgAADAAIMAAIMAAgwAAgwACDAACDAACDAAIAAA4AAAwACDAACDAAIMAAIMAAgwAAgwAAgwACAAAOAAAMAAgwAAgwACDAACDAAIMAAIMAAIMAAgAADgAADAAIMAAIMAAgwAAgwACDAACDAACDAAIAAA4AAAwACDAACDAAIMAAIMAAgwAAgwAAgwACAAAOAAAMAAgwAAgwACDAACDAAIMAAIMAAcO/FlJIpjGyaMRoCcFfpxWhNGcGIN9AYQ+utVAr9lxR52LpwiD+euz/0V+v8IsX//74P45s36fXr0cyq15peZ2WL/CDG/O2VSimE0tTUP39fpBBTCBcXIaXmbbiHnXeKPMwtye53LvlW317n3/7qVXz5Mo1kZTvX9zor2/WLDL2ynT+Ia6+sA4wRcwoaAAQYAAQYABBgABBgAECAAUCAAQABvmXi2Vnz/ocP8fQ0npzE4+N4dGQ43Se2vp5fsrwcnzwxmV6mp5vv15ybiw8fxvn5WKnEhYW4uOitnF1sbeXHsr8fDw7i4aFx9XhWxpj73KH4leEU54M4xrjJ1uudC1Ol0vx0BTqHVq3ml6yspMPDEGN8/Dj9979GlFMut21IHz+m1o9TWFiwmeW9fZufyd5eXF1NKYWDg/juXXz82Mc/5evbuST7kKyswT4wyxHwbZRmZgxhgOd5rZa2t9uWrK6mg4PGMP/4w4hyHjyI5+c9930LC/H42J6xzeZm3NjoOZPlZePqth9LqTWxrT2WXgG+rVvt9HT3zJycxONj8+kysa0tQxjIly92f4N58aLfxA4P49KSkXJTnIL+1gd5p6dpYSHEGI+O0o8/GsjVE1tZaRbaKejCKhUnn4taW0t7ezE7Ar64MI+rD4gvD4K9BizAk7PhPnoUSk5CDDi0g4PGP+Hw5En897/T//5nJgWdnDhBWEjra8AhBK8BF29wa4y5kr0/QNPublxbaxTXa8ADNdjvdwI8SeKHD4bAGMzPx9NTO8cBjoANYbBdmVPQQ3EK+ltvuKenjd8ff/jBNK7+LXt/32vA3KinT9Pubtzfb4Rkaclx3WANNi8BvsUJmZ1t3s9eA/Ym4P4T29lpe/j1NWAvn/dSr+cvHXr/3l6xn1qtbT5ra6n1X6Sn+xOzZWQ2r+HYhQGAAAOAAAMAAgwAAgwACDAACDAAIMAAIMAAgAADgAADgAADAAIMAAIMAAgwAAgwACDAACDAAIAAA4AAA4AAAwACDAACDAAIMAAIMAAgwAAgwACAAAOAAAOAAAMAAgwAAgwACDAACDAAIMAAIMAAgAADgAADgAADAAIMAAIMAAgwAAgwACDAACDAAIAAA4AAA4AAAwACDAACDAAIMAAIMAAgwAAgwACAAAOAAAOAAAMAAgwAAgwACDAACDAAIMAAIMAAgAADgAADgAADAAIMAAIMAAgwAAgwACDAACDAAIAAA4AAA4AAAwACDAACDAAIMAAIMAAgwAAgwACAAAOAAAOAABsBAAgwANwLMaVkCiObZoyGANxVejFaU0Yw4g00xtB6K5VC/yVFHrYuHOKP5+4P/dU6v0jx/7/vw/jmTXr9ejSz6rWm11nZIj+IMX97pVIKoTQ19c/fFynEFMLFRUipeRvuYeedIg9zS7L7nUu+1bfX+be/ehVfvkwjWdnO9b3Oynb9IkOvbOcP4tor6wBjxJyCBgABBgABBgAEGAAEGAAQ4AkSz87yS05O4vGxyfSc2Pp6l4VPnphML9PT+atV5+djpeIS1p62tvLD2d+PBwcm1vtZGWPXd116K+ZAvA1pvFvt589tDz98CCGkhYV4chKPjtKPPxpRfmLVapeFy8sm00u5nN8DPnwY379PKYVKJR4fex9n3tu3+Ynt7cXV1ZRSyBr8+LGhFaqs+joCvsVbbb2eZmZyC1OlEkJIi4vm02VitVra3s4vXFlJh4eG09WDB/H8vK0Wc3Nt+8TFRbvINpubcWOjbWK7u80RLS9Lb3c+kcMR8KRtstPThjDYxLa2uiw8ODCZXr58ye8YP35M2ccp0NWLFyk3nKdPU/a5EyGEw0O/rxStb4wxpeQgWICB7o6PHboUsr/fCMnSkoldLauvOQzKKWi4FyqVeHJiF1nU6mpaWTEuBBi4nvn5eHoqJwNbXk7v3jmnevXhb2i5LtpZ6OKcgoY77vIqaIrILsJaXTWvolq3LeeiHQFPzob76FE8PfU+YG5OdhV09j7ghYXoKugrPX2awtfXgA8P49KSnOAI+M5Ed3a27WGlEk9P0+JicN6m18R2dros/P13k+mlXm9e2Xt5FXTrvzFHTq3Wdti2tta4EHp5ObmAvMiBb/+FOAK+xdvxwoIhAAgwACDAACDAAIAAA4AAAwACDAACDAAIMAAIMAAIMAAgwAAgwACAAAOAAAMAAgwAAgwACDAACDAACDAAIMAAIMAAgAADgAADAAIMAAIMAAgwAAgwAAgwACDAACDAAIAAA4AAAwACDAACDAAIMAAIMAAIMAAgwAAgwACAAAOAAAMAAgwAAgwACDAACDAACDAAIMAAIMAAgAADgAADAAIMAAIMAAgwAAgwACDAACDAACDAAIAAA4AAAwACDAACDAAIMAAIMAAgwAAgwAAgwACAAAOAAAMAAgwAAgwACDAACDAAIMAAIMAAIMAAgAADgAADAAIMAAIMAAgwAAgwACDAACDAACDAAIAAA4AAAwCjEFNKpjCyacZoCMBdpRejNWUEI95AYwytt1Ip9F9S5GHrwiH+eO7+0F+t84sU///7Poxv3qTXr0czq15rep2VLfKDGPO3VyqlEEpTU//8fZFCTCFcXISUmrfhHnbeKfIwtyS737nkW317nX/7q1fx5cs0kpXtXN/rrGzXLzL0ynb+IK69sg4wRswpaAAQYAAQYABAgLmn4vq6IXCjtra8ujngs9IFp6PgIqxxba/n560P09ycmVw9tFothJB2duKzZ+m33wykv+++y+8T//zTNatX2NyMIYRaLWUNfvbMxAqlN6V0ecdMHAFPgDQ9nWZm0uxs+v5707j6ef78eQghbW83Hv70k5n099df6cuXdH6e6nX7xAFsbKQQQrVqaIV3ZSlJryNg7vrzfGurcefXX4NTXgM6O7OHBAEmO4ar15tpcQq64NCq1cbEnILmBrx4kbKz0CGE9XW/sjBWTkGP8Xju6ylooyha31otbW+nnZ3gFPQgpqfjp09KUsjmZtzYSLWacQ3yxPzKKAR4QupbLrdtwR8/msnVQ2s9BQ2j9p//NBNSraadHUUp8KxsYRoCPCG/M7oK+jrTe/bMEAoql1WEmz38NQQBnsANt14PIcSzM6Mo9Iv2L79kb0NqPPQacGGugi7o55+bg9re1hUlHjcXYY0rJ+VyiDF+/hxC8DakokPb2souwnIKmhtyeRFWtZqyf3KAK56V3gEswJO67c7MhJKzDoNMbHvbG5AGcn5uxziYjQ3pHbjBhjASYgAAAgwAAgwACDAACDAAIMAAIMAAgAADgAADAAIMAAIMAAIMAAgwAAgwACDAACDAAIAAA4AAAwACDAACDAACDAAIMAAIMAAgwAAgwACAAAOAAAMAAgwAAgwAAgwACDAACDAAIMAAIMAAgAADgAADAAIMAAIMAAIMAAgwAAgwACDAACDAAIAAA4AAAwACDAACDAACDAAIMAAIMAAgwAAgwACAAAOAAAMAAgwAAgwAAgwACDAACDAAIMAAIMAAgAADgAADAAIMAAIMAAIMAAgwAAgwACDAACDAAIAAA4AAAwACDAACDAACDAAIMAAIMAAgwAAgwACAAAOAAAMAAgwAAgwAAmwEACDAACDAAIAAA4AAAwDDiyklUxjlQGM0BOBO0gsBBoCJ5xQ0AAgwANwPU0YwNq0vDzvzP9DQjMs2ZmK3cHQmJsCTt7G6UGuInSMFZZtZjNH+caCJKYrn5jcY40RvcDYCAL88OQL+Zj+CGIOb2/28ZTshN7d7eIuTf7rCRVgAIMAAIMAAgAADgAADAAIMAAIMAAgwANw+d+CDOGL2tmwAEODx8dmtAPfQHfgoYqegAUCAAUCAAYAb4t+/BABHwABwP0z2VdCXV8E5jge4b7IETO7+vzTRo08pZaO/A9ejAzDEAdjkugunoB3+Atw3d2DP7zVgABBgABBgAECAAUCAbxOXQAMwcSb4fcApJe8DBmBC/R8ve5anmz8uiwAAAABJRU5ErkJggg=='>"
      ],
      "text/plain": [
       "<IPython.core.display.HTML object>"
      ]
     },
     "execution_count": 11,
     "metadata": {},
     "output_type": "execute_result"
    }
   ],
   "source": [
    "fig.show() # redraw"
   ]
  },
  {
   "cell_type": "markdown",
   "metadata": {},
   "source": [
    "Analysis time\n",
    "-------"
   ]
  },
  {
   "cell_type": "code",
   "execution_count": 12,
   "metadata": {
    "collapsed": false
   },
   "outputs": [
    {
     "name": "stdout",
     "output_type": "stream",
     "text": [
      "- The value held in memory for node 0:\n",
      "1.0\n",
      "\n",
      "- The nodal values along the bottom wall:\n",
      "[[ 1.        ]\n",
      " [ 0.74999948]\n",
      " [ 0.50000024]\n",
      " [ 0.24999938]\n",
      " [ 0.        ]]\n",
      "\n",
      "- The value interpolate at (0.25,0.75):\n",
      "[[ 0.74999813]]\n",
      "\n",
      "- The diffusivity value at (0.25,0.75):\n",
      "[[ 1.]]\n"
     ]
    }
   ],
   "source": [
    "print \"- The value held in memory for node 0:\\n\",      tField.data[0][0]\n",
    "print \"\\n- The nodal values along the bottom wall:\\n\", tField.evaluate( mesh.specialSets['MinJ_VertexSet'] )\n",
    "print \"\\n- The value interpolate at (0.25,0.75):\\n\",   tField.evaluate( (0.25,0.75) )\n",
    "print \"\\n- The diffusivity value at (0.25,0.75):\\n\",   diffusivity.evaluate( (0.25,0.75) )"
   ]
  },
  {
   "cell_type": "code",
   "execution_count": 13,
   "metadata": {
    "collapsed": false
   },
   "outputs": [],
   "source": [
    "# numpy analysis - against exact solution assumed BCs and model domain\n",
    "import numpy as np\n",
    "\n",
    "# build some vectors\n",
    "size      = len(mesh.specialSets['MinJ_VertexSet'].data) # no. vertical nodes\n",
    "vals      = np.zeros( size )\n",
    "x_pos     = vals.copy()\n",
    "exact_sol = vals.copy()\n",
    "\n",
    "# use IndexSet to evaluate on tField\n",
    "ids     = mesh.specialSets['MinJ_VertexSet']\n",
    "vals[:] = tField.evaluate(ids).T          # gets tField values\n",
    "x_pos   = tField.mesh.data[ids.data,[0]]  # gets the x-coordinates\n",
    "\n",
    "# evaluate the exact solution to this (1D) probem\n",
    "if type_k == 'constant':\n",
    "    exact_sol[:] = 1 - x_pos[:] \n",
    "elif type_k == 'linear':\n",
    "    c0 = -1.0 / ( 0.5*alpha + beta )\n",
    "    c1 = 1.0\n",
    "    exact_sol[:] = c0*( 0.5*alpha*x_pos[:]*x_pos[:] + beta*x_pos[:] ) + c1\n",
    "elif type_k == 'nonlinear':    \n",
    "    exact_sol[:] = np.sqrt(2) * np.sqrt(2-1.5*x_pos[:]) - 1.0"
   ]
  },
  {
   "cell_type": "code",
   "execution_count": 14,
   "metadata": {
    "collapsed": false,
    "scrolled": false
   },
   "outputs": [
    {
     "data": {
      "image/png": "[encoded data removed]",
      "text/plain": [
       "<matplotlib.figure.Figure at 0x7f21a838d750>"
      ]
     },
     "metadata": {},
     "output_type": "display_data"
    }
   ],
   "source": [
    "# graph tField profile and exact_solution profile\n",
    "%matplotlib inline\n",
    "import matplotlib.pyplot as pyplot\n",
    "import matplotlib.pylab as pylab\n",
    "pylab.rcParams[ 'figure.figsize'] = 12, 6\n",
    "pyplot.plot(x_pos, vals, color = 'black') \n",
    "pyplot.plot(x_pos, exact_sol, color = 'red') \n",
    "pyplot.xlabel('X coords')\n",
    "pyplot.ylabel('Temperature')\n",
    "pyplot.show()"
   ]
  },
  {
   "cell_type": "code",
   "execution_count": 15,
   "metadata": {
    "collapsed": false
   },
   "outputs": [],
   "source": [
    "# save the results to disk i.e. checkpoint\n",
    "mHandle = mesh.save(\"mesh.h5\")\n",
    "tHandle = tField.save(\"tField.h5\")\n",
    "tField.xdmf(\"tField.xdmf\", tHandle, \"The Temperature Field\", mHandle, \"The Mesh\")"
   ]
  }
 ],
 "metadata": {
  "kernelspec": {
   "display_name": "Python 2",
   "language": "python",
   "name": "python2"
  },
  "language_info": {
   "codemirror_mode": {
    "name": "ipython",
    "version": 2
   },
   "file_extension": ".py",
   "mimetype": "text/x-python",
   "name": "python",
   "nbconvert_exporter": "python",
   "pygments_lexer": "ipython2",
   "version": "2.7.9"
  }
 },
 "nbformat": 4,
 "nbformat_minor": 0
}
