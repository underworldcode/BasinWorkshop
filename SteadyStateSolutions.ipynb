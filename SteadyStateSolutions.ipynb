{
 "cells": [
  {
   "cell_type": "markdown",
   "metadata": {},
   "source": [
    "# Demonstrating Underworld 2"
   ]
  },
  {
   "cell_type": "markdown",
   "metadata": {},
   "source": [
    "Basics about Underworld:\n",
    "-----\n",
    " * An open-source, parallel FEM and PIC code, with visualisation.\n",
    " * Underworld, over 10+ years of development, many community interactions.\n",
    " * Underworld 2 has two layers of code - still 'beta'\n",
    "   * 1) c/c++ layer for speed\n",
    "   * 2) python layer for user interaction"
   ]
  },
  {
   "cell_type": "markdown",
   "metadata": {},
   "source": [
    "Points to cover in this demonstration\n",
    "-------\n",
    "* **Readability and flexibility of the Python input**  \n",
    "   More concise and robust user interface; realtime interactivity with jupyter notebooks.\n",
    "\n",
    "* **Direct access to discretisation data (e.g field values) via Numpy**  \n",
    "   From python one can read, manipulate and write to the memory used by the underlying c layer.\n",
    "\n",
    "* **User Patterns**  \n",
    "   The mesh, field and swarm data structures have similar user patterns."
   ]
  },
  {
   "cell_type": "markdown",
   "metadata": {
    "slideshow": {
     "slide_type": "fragment"
    }
   },
   "source": [
    "Solving the Steady State Heat Equation with Underworld\n",
    "------\n",
    "\n",
    "\\\\[ \n",
    "\\nabla \\cdot ( k \\nabla T )= 0\n",
    "\\\\]\n",
    "where $ k$  is diffusivity and $T$ is the temperature.  \n",
    "Over the 2D domain given by\n",
    "\n",
    "\\\\[\n",
    " 0 \\leq x \\leq 1\n",
    "\\\\]\n",
    "\\\\[\n",
    "0 \\leq y \\leq 1\n",
    "\\\\]\n",
    "\n",
    "with the boundary conditions\n",
    "\n",
    "\\\\[\n",
    " T(0, y) = 1\n",
    "\\\\]\n",
    "\\\\[\n",
    "T(1, y) = 0\n",
    "\\\\]\n",
    "$$\n",
    "0 \\leq y \\leq 1\n",
    "$$\n"
   ]
  },
  {
   "cell_type": "code",
   "execution_count": null,
   "metadata": {
    "collapsed": false
   },
   "outputs": [],
   "source": [
    "import underworld as uw\n",
    "import glucifer"
   ]
  },
  {
   "cell_type": "code",
   "execution_count": null,
   "metadata": {
    "collapsed": false
   },
   "outputs": [],
   "source": [
    "# create a FEM mesh and a MeshVariable\n",
    "mesh = uw.mesh.FeMesh_Cartesian( elementType = (\"Q1\"), \n",
    "                                 elementRes  = (6, 6), \n",
    "                                 minCoord    = (0., 0.), \n",
    "                                 maxCoord    = (1., 1.)  )\n",
    "\n",
    "tField = uw.mesh.MeshVariable( mesh=mesh, nodeDofCount=1 )"
   ]
  },
  {
   "cell_type": "code",
   "execution_count": null,
   "metadata": {
    "collapsed": false,
    "scrolled": false
   },
   "outputs": [],
   "source": [
    "# visualise the mesh\n",
    "fig = glucifer.Figure()\n",
    "fig.append(glucifer.objects.Mesh(mesh=mesh, nodeNumbers=True ) )\n",
    "fig.show()"
   ]
  },
  {
   "cell_type": "code",
   "execution_count": null,
   "metadata": {
    "collapsed": false
   },
   "outputs": [],
   "source": [
    "# explore the mesh's index sets\n",
    "print mesh.specialSets.keys()\n",
    "print mesh.specialSets['MaxI_VertexSet']"
   ]
  },
  {
   "cell_type": "code",
   "execution_count": null,
   "metadata": {
    "collapsed": false
   },
   "outputs": [],
   "source": [
    "# initialise the mesh with the boundary conditions\n",
    "for ii in mesh.specialSets['MinI_VertexSet']:\n",
    "    tField.data[ii] = 1.0\n",
    "    \n",
    "for ii in mesh.specialSets['MaxI_VertexSet']:\n",
    "    tField.data[ii] = 0.0"
   ]
  },
  {
   "cell_type": "code",
   "execution_count": null,
   "metadata": {
    "collapsed": false,
    "scrolled": false
   },
   "outputs": [],
   "source": [
    "# visualise the new field\n",
    "fig.append(glucifer.objects.Surface(mesh=mesh, fn=tField, colours=('blue white red')) )\n",
    "fig.show()"
   ]
  },
  {
   "cell_type": "code",
   "execution_count": null,
   "metadata": {
    "collapsed": false
   },
   "outputs": [],
   "source": [
    "# assign which nodese remain boundary conditions\n",
    "wallSet = mesh.specialSets['MinI_VertexSet'] + mesh.specialSets['MaxI_VertexSet']\n",
    "flaggedBCs = uw.conditions.DirichletCondition(tField, indexSetsPerDof=(wallSet,) )"
   ]
  },
  {
   "cell_type": "code",
   "execution_count": null,
   "metadata": {
    "collapsed": true
   },
   "outputs": [],
   "source": [
    "# diffusivity, either defined as a number or as a 'Function object'\n",
    "type_k = 'constant' # 'constant', linear', 'nonlinear' # CHANGE HERE\n",
    "if type_k == 'constant':\n",
    "    diffusivity = uw.function.misc.constant(1.) \n",
    "elif type_k == 'linear':\n",
    "    alpha = 3.0\n",
    "    beta = 1.0\n",
    "    # diffusivity = (alpha*y + beta)^-1\n",
    "    diffusivity = uw.function.math.pow( alpha*uw.function.coord()[0]+beta, -1.0 )\n",
    "elif type_k == 'nonlinear':    \n",
    "    diffusivity = tField + 1.0"
   ]
  },
  {
   "cell_type": "code",
   "execution_count": null,
   "metadata": {
    "collapsed": false
   },
   "outputs": [],
   "source": [
    "# define a systems class with the python objects describing the model \n",
    "ss = uw.systems.SteadyStateHeat( temperatureField = tField,\n",
    "                                 fn_diffusivity = diffusivity,\n",
    "                                 conditions=[flaggedBCs] )\n",
    "# ask for the default solver\n",
    "solver = uw.systems.Solver(ss)\n",
    "\n",
    "solver.solve() # solve it"
   ]
  },
  {
   "cell_type": "code",
   "execution_count": null,
   "metadata": {
    "collapsed": false,
    "scrolled": false
   },
   "outputs": [],
   "source": [
    "fig.show() # redraw"
   ]
  },
  {
   "cell_type": "markdown",
   "metadata": {},
   "source": [
    "Analysis time\n",
    "-------"
   ]
  },
  {
   "cell_type": "code",
   "execution_count": null,
   "metadata": {
    "collapsed": false
   },
   "outputs": [],
   "source": [
    "print \"- The value held in memory for node 0:\\n\",      tField.data[0][0]\n",
    "print \"\\n- The nodal values along the bottom wall:\\n\", tField.evaluate( mesh.specialSets['MinJ_VertexSet'] )\n",
    "print \"\\n- The value interpolate at (0.25,0.75):\\n\",   tField.evaluate( (0.25,0.75) )\n",
    "print \"\\n- The diffusivity value at (0.25,0.75):\\n\",   diffusivity.evaluate( (0.25,0.75) )"
   ]
  },
  {
   "cell_type": "code",
   "execution_count": null,
   "metadata": {
    "collapsed": false
   },
   "outputs": [],
   "source": [
    "# numpy analysis - against exact solution assumed BCs and model domain\n",
    "import numpy as np\n",
    "\n",
    "# build some vectors\n",
    "size      = len(mesh.specialSets['MinJ_VertexSet'].data) # no. vertical nodes\n",
    "vals      = np.zeros( size )\n",
    "x_pos     = vals.copy()\n",
    "exact_sol = vals.copy()\n",
    "\n",
    "# use IndexSet to evaluate on tField\n",
    "ids     = mesh.specialSets['MinJ_VertexSet']\n",
    "vals[:] = tField.evaluate(ids).T          # gets tField values\n",
    "x_pos   = tField.mesh.data[ids.data,[0]]  # gets the x-coordinates\n",
    "\n",
    "# evaluate the exact solution to this (1D) probem\n",
    "if type_k == 'constant':\n",
    "    exact_sol[:] = 1 - x_pos[:] \n",
    "elif type_k == 'linear':\n",
    "    c0 = -1.0 / ( 0.5*alpha + beta )\n",
    "    c1 = 1.0\n",
    "    exact_sol[:] = c0*( 0.5*alpha*x_pos[:]*x_pos[:] + beta*x_pos[:] ) + c1\n",
    "elif type_k == 'nonlinear':    \n",
    "    exact_sol[:] = np.sqrt(2) * np.sqrt(2-1.5*x_pos[:]) - 1.0"
   ]
  },
  {
   "cell_type": "code",
   "execution_count": null,
   "metadata": {
    "collapsed": false,
    "scrolled": false
   },
   "outputs": [],
   "source": [
    "# graph tField profile and exact_solution profile\n",
    "%matplotlib inline\n",
    "import matplotlib.pyplot as pyplot\n",
    "import matplotlib.pylab as pylab\n",
    "pylab.rcParams[ 'figure.figsize'] = 12, 6\n",
    "pyplot.plot(x_pos, vals, color = 'black') \n",
    "pyplot.plot(x_pos, exact_sol, color = 'red') \n",
    "pyplot.xlabel('X coords')\n",
    "pyplot.ylabel('Temperature')\n",
    "pyplot.show()"
   ]
  },
  {
   "cell_type": "code",
   "execution_count": null,
   "metadata": {
    "collapsed": false
   },
   "outputs": [],
   "source": [
    "# save the results i.e. checkpoint\n",
    "mHandle = mesh.save(\"mesh.h5\")\n",
    "tHandle = tField.save(\"tField.h5\")\n",
    "tField.xdmf(\"tField.xdmf\", tHandle, \"The Temperature Field\", mHandle, \"The Mesh\")"
   ]
  }
 ],
 "metadata": {
  "kernelspec": {
   "display_name": "Python 2",
   "language": "python",
   "name": "python2"
  },
  "language_info": {
   "codemirror_mode": {
    "name": "ipython",
    "version": 2
   },
   "file_extension": ".py",
   "mimetype": "text/x-python",
   "name": "python",
   "nbconvert_exporter": "python",
   "pygments_lexer": "ipython2",
   "version": "2.7.9"
  }
 },
 "nbformat": 4,
 "nbformat_minor": 0
}
