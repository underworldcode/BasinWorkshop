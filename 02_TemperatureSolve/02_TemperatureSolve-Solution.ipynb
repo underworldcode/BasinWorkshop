{
 "cells": [
  {
   "cell_type": "markdown",
   "metadata": {
    "deletable": true,
    "editable": true
   },
   "source": [
    "## A temperature solution\n",
    "\n",
    "\n",
    "We will configure Underworld to solve a steady state diffusion problem on a finite element mesh.\n",
    "The basic tools we need are:\n",
    "- The mesh itself\n",
    "- Some unknowns living on the mesh\n",
    "- Some boundary conditions\n",
    "- A diffusivity parameter\n",
    "- A heating term\n",
    "- A way to solve the equations\n",
    "\n",
    "**New concepts**: underworld.systems.SteadyStateHeat, underworld.functions\n",
    "\n",
    "<img src='../images/tempSolve.png' width=600>"
   ]
  },
  {
   "cell_type": "markdown",
   "metadata": {
    "deletable": true,
    "editable": true
   },
   "source": [
    "\\\\[ \n",
    "\\begin{aligned}\n",
    "\\nabla(k \\nabla)T + h = 0 && \\text{ on } && \\Omega \\\\\n",
    "T = g && \\text{ on } && \\partial\\Omega \\\\\n",
    "-\\nabla T = f && \\text{ on } && \\partial \\Omega\\\\\n",
    "\\end{aligned}\n",
    "\\\\]\n",
    "\n",
    "where:\n",
    "- $T$ : is temperature\n",
    "- $h$ : heating term\n",
    "- $k$ : diffusivity\n",
    "- $f$ : heat flux vector\n",
    "- $g$ : temperature boundary condition"
   ]
  },
  {
   "cell_type": "markdown",
   "metadata": {
    "deletable": true,
    "editable": true
   },
   "source": [
    "\n",
    "For more information on the equations Underworld 2 can solve\n",
    "\n",
    "http://underworld2.readthedocs.io/en/latest/underworld.systems.html\n"
   ]
  },
  {
   "cell_type": "code",
   "execution_count": null,
   "metadata": {
    "collapsed": true,
    "deletable": true,
    "editable": true
   },
   "outputs": [],
   "source": [
    "import underworld as uw\n",
    "import glucifer"
   ]
  },
  {
   "cell_type": "code",
   "execution_count": null,
   "metadata": {
    "collapsed": false,
    "deletable": true,
    "editable": true
   },
   "outputs": [],
   "source": [
    "# Build the mesh\n",
    "mesh = uw.mesh.FeMesh_Cartesian(elementType = 'Q1', \n",
    "                                elementRes  = (5,5),\n",
    "                                minCoord    = (0.0,0.0),\n",
    "                                maxCoord    = (10.0,10.0))"
   ]
  },
  {
   "cell_type": "code",
   "execution_count": null,
   "metadata": {
    "collapsed": false,
    "deletable": true,
    "editable": true
   },
   "outputs": [],
   "source": [
    "# create the unknown to be solved - a MeshVariable\n",
    "temperature = uw.mesh.MeshVariable(mesh, nodeDofCount=1)"
   ]
  },
  {
   "cell_type": "code",
   "execution_count": null,
   "metadata": {
    "collapsed": false,
    "deletable": true,
    "editable": true
   },
   "outputs": [],
   "source": [
    "# set boundary values\n",
    "topWall = mesh.specialSets[\"MaxJ_VertexSet\"]\n",
    "for ii in topWall:\n",
    "    temperature.data[ii] = 5.0\n",
    "    \n",
    "bottomWall = mesh.specialSets[\"MinJ_VertexSet\"] \n",
    "for ii in bottomWall:\n",
    "    temperature.data[ii] = 10.0\n",
    "\n",
    "# flag boundary conditions - complex idea\n",
    "bc = uw.conditions.DirichletCondition(temperature, indexSetsPerDof=(topWall+bottomWall) )"
   ]
  },
  {
   "cell_type": "code",
   "execution_count": null,
   "metadata": {
    "collapsed": false,
    "deletable": true,
    "editable": true
   },
   "outputs": [],
   "source": [
    "# define heat eq. system\n",
    "ss = uw.systems.SteadyStateHeat( temperatureField  = temperature,\n",
    "                                 fn_diffusivity    = 1.0, \n",
    "                                 fn_heating        = 0.0,\n",
    "                                 conditions        = [bc] )\n",
    "\n",
    "# uw.systems.SteadyStateHeat represents the discretised system of linear equations\n",
    "# that define the Heat Equation above. In general a uw.system forms a system Ax=b,\n",
    "# where x is the unknown to be solved, in this case x is the temperature\n",
    "\n",
    "# the bc (DirichletCondition) object is passed to a uw.system\n",
    "# and flags the 'known' values of the unknown x. i.e. Constraints conditions"
   ]
  },
  {
   "cell_type": "code",
   "execution_count": null,
   "metadata": {
    "collapsed": false,
    "deletable": true,
    "editable": true
   },
   "outputs": [],
   "source": [
    "# get a solver for the system and solve it!\n",
    "solver = uw.systems.Solver(ss)\n",
    "solver.solve()\n",
    "\n",
    "fig2 = glucifer.Figure()\n",
    "fig2.append(glucifer.objects.Surface(mesh, temperature))\n",
    "fig2.append(glucifer.objects.Mesh(mesh))\n",
    "fig2.show()"
   ]
  },
  {
   "cell_type": "markdown",
   "metadata": {
    "deletable": true,
    "editable": true
   },
   "source": [
    "### Underworld2 Functions: underworld.function\n",
    "- High level interface to manipulate/view discrete objects (mesh and swarms).\n",
    "- 'lazy' evaulation in c layer - highly efficiency.\n",
    "- interoperable with glucifer.\n",
    "- Operator overloading for convenience.\n",
    "- Not interoperable with python functions\n",
    "\n",
    "See the underworld.functions [user guide](../user_guides/05_Functions.ipynb)"
   ]
  },
  {
   "cell_type": "code",
   "execution_count": null,
   "metadata": {
    "collapsed": true,
    "deletable": true,
    "editable": true
   },
   "outputs": [],
   "source": [
    "import underworld.function as fn"
   ]
  },
  {
   "cell_type": "code",
   "execution_count": null,
   "metadata": {
    "collapsed": false,
    "deletable": true,
    "editable": true
   },
   "outputs": [],
   "source": [
    "# Note a MeshVariable is a function, .evaluate forces an evaluate now\n",
    "# it changes behaviour depending on input argument\n",
    "rightWall = mesh.specialSets[\"MaxI_VertexSet\"]\n",
    "print \"The temperature along a wall is:\\n\", temperature.evaluate(rightWall)\n",
    "print \"The temperature at a given location is \",temperature.evaluate( (5.0,5.0) )"
   ]
  },
  {
   "cell_type": "code",
   "execution_count": null,
   "metadata": {
    "collapsed": false,
    "deletable": true,
    "editable": true
   },
   "outputs": [],
   "source": [
    "# make a new function\n",
    "sqFn = fn.math.pow(temperature, 2.)\n",
    "print sqFn.evaluate(rightWall)\n",
    "print sqFn.evaluate( ( 5.0,5.0 ) )"
   ]
  },
  {
   "cell_type": "code",
   "execution_count": null,
   "metadata": {
    "collapsed": false,
    "deletable": true,
    "editable": true
   },
   "outputs": [],
   "source": [
    "for index in rightWall:\n",
    "    temperature.data[index] = 1.0\n",
    "\n",
    "sqFn.evaluate(rightWall)"
   ]
  },
  {
   "cell_type": "code",
   "execution_count": null,
   "metadata": {
    "collapsed": true,
    "deletable": true,
    "editable": true
   },
   "outputs": [],
   "source": [
    "# a really useful function is fn.coord, as so known as fn.input\n",
    "# it's an indentity function and in this case we use it to return\n",
    "# coordinates of the mesh\n",
    "\n",
    "#fn.coord?"
   ]
  },
  {
   "cell_type": "code",
   "execution_count": null,
   "metadata": {
    "collapsed": false,
    "deletable": true,
    "editable": true
   },
   "outputs": [],
   "source": [
    "fn_2 = fn.coord()\n",
    "\n",
    "fn_2.evaluate(rightWall)"
   ]
  },
  {
   "cell_type": "code",
   "execution_count": null,
   "metadata": {
    "collapsed": false,
    "deletable": true,
    "editable": true
   },
   "outputs": [],
   "source": [
    "# just the y-component\n",
    "fn_2 = fn.coord()[1]\n",
    "\n",
    "fn_2.evaluate(rightWall)"
   ]
  },
  {
   "cell_type": "markdown",
   "metadata": {
    "deletable": true,
    "editable": true
   },
   "source": [
    "### Functions as input parameter\n",
    "\n",
    "A powerful mechanism to control model behaviour\n",
    "\n",
    "Let's test this idea with diffusivity"
   ]
  },
  {
   "cell_type": "code",
   "execution_count": null,
   "metadata": {
    "collapsed": false,
    "deletable": true,
    "editable": true
   },
   "outputs": [],
   "source": [
    "# define a non-zero function for diffusivity\n",
    "diffFn = fn.coord()[1]+1.0\n",
    "\n",
    "# quick reset of temperature field\n",
    "temperature.data[...] = 0.0\n",
    "temperature.data[topWall.data] = 10.0\n",
    "temperature.data[bottomWall.data] = 5.0\n",
    "\n",
    "# let's define SteadyStateHeat again with the new diffFn now\n",
    "ss = uw.systems.SteadyStateHeat( temperatureField  = temperature,\n",
    "                                 fn_diffusivity    = diffFn, \n",
    "                                 fn_heating        = 0.0,\n",
    "                                 conditions        = [bc] )\n",
    "solver = uw.systems.Solver(ss)\n",
    "solver.solve()"
   ]
  },
  {
   "cell_type": "code",
   "execution_count": null,
   "metadata": {
    "collapsed": false,
    "deletable": true,
    "editable": true
   },
   "outputs": [],
   "source": [
    "fig2.show()"
   ]
  },
  {
   "cell_type": "code",
   "execution_count": null,
   "metadata": {
    "collapsed": false,
    "deletable": true,
    "editable": true
   },
   "outputs": [],
   "source": [
    "# turn on matplotlib in our notebook\n",
    "%matplotlib inline\n",
    "import matplotlib.pyplot as pyplot"
   ]
  },
  {
   "cell_type": "code",
   "execution_count": null,
   "metadata": {
    "collapsed": false,
    "deletable": true,
    "editable": true
   },
   "outputs": [],
   "source": [
    "# temperature profile along the right wall\n",
    "pyplot.plot( mesh.data[rightWall.data][:,1], \n",
    "             temperature.evaluate(rightWall), \n",
    "             'o', label='along right wall') \n"
   ]
  },
  {
   "cell_type": "markdown",
   "metadata": {
    "deletable": true,
    "editable": true
   },
   "source": [
    "**Exercise:**\n",
    "\n",
    "1. Experiment with using underworld.function for the `fn_diffusivty` and the `fn_heating` term\n",
    "\n",
    "***tip*** watch out for 0 diffusivity values"
   ]
  },
  {
   "cell_type": "code",
   "execution_count": null,
   "metadata": {
    "collapsed": false,
    "deletable": true,
    "editable": true
   },
   "outputs": [],
   "source": [
    "# here we apply a flux condition, -2, on the bottom\n",
    "# and a heating term equal to the y coordinate\n",
    "\n",
    "nbc = uw.conditions.NeumannCondition(flux=(0.,2.), variable=temperature, \n",
    "                                     nodeIndexSet=mesh.specialSets[\"MinJ_VertexSet\"])\n",
    "\n",
    "heatingFn = fn.coord()[1]\n",
    "diffFn = fn.misc.constant(1.)\n",
    "\n",
    "# flag boundary conditions - note we don't flag the bottom wall now as they are NeumannConditions\n",
    "bc = uw.conditions.DirichletCondition(temperature, indexSetsPerDof=(topWall) )\n",
    "\n",
    "ss = uw.systems.SteadyStateHeat( temperatureField  = temperature,\n",
    "                                 fn_diffusivity    = diffFn, \n",
    "                                 fn_heating        = heatingFn,\n",
    "                                 conditions        = [bc,nbc] )\n",
    "solver = uw.systems.Solver(ss)\n",
    "solver.solve()"
   ]
  },
  {
   "cell_type": "code",
   "execution_count": null,
   "metadata": {
    "collapsed": false,
    "deletable": true,
    "editable": true
   },
   "outputs": [],
   "source": [
    "fig2.show()"
   ]
  },
  {
   "cell_type": "code",
   "execution_count": null,
   "metadata": {
    "collapsed": false,
    "deletable": true,
    "editable": true
   },
   "outputs": [],
   "source": [
    "pyplot.plot( mesh.data[rightWall.data][:,1], \n",
    "             temperature.evaluate(rightWall), \n",
    "             'o', label='along right wall') "
   ]
  },
  {
   "cell_type": "code",
   "execution_count": null,
   "metadata": {
    "collapsed": true
   },
   "outputs": [],
   "source": []
  }
 ],
 "metadata": {
  "kernelspec": {
   "display_name": "Python 2",
   "language": "python",
   "name": "python2"
  },
  "language_info": {
   "codemirror_mode": {
    "name": "ipython",
    "version": 2
   },
   "file_extension": ".py",
   "mimetype": "text/x-python",
   "name": "python",
   "nbconvert_exporter": "python",
   "pygments_lexer": "ipython2",
   "version": "2.7.11+"
  }
 },
 "nbformat": 4,
 "nbformat_minor": 0
}
