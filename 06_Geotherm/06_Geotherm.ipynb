{
 "cells": [
  {
   "cell_type": "markdown",
   "metadata": {
    "deletable": true,
    "editable": true
   },
   "source": [
    "# A geotherm with radiogenic heating and partial melt"
   ]
  },
  {
   "cell_type": "markdown",
   "metadata": {
    "deletable": true,
    "editable": true
   },
   "source": [
    "![Results](../images/geotherm.png)"
   ]
  },
  {
   "cell_type": "code",
   "execution_count": null,
   "metadata": {
    "collapsed": false,
    "deletable": true,
    "editable": true
   },
   "outputs": [],
   "source": [
    "import underworld as uw\n",
    "import numpy as np\n",
    "import glucifer\n",
    "from underworld import function as fn\n",
    "from mpi4py import MPI\n",
    "\n",
    "outputPath = 'output'\n",
    "\n",
    "# create outputPath\n",
    "import glob, json, os\n",
    "# make a unique path\n",
    "if os.path.exists(outputPath):\n",
    "    outputPath += '_'+str(len(glob.glob(outputPath+str('*')))-1)\n",
    "\n",
    "# build output dir string\n",
    "if not outputPath.endswith('/'):\n",
    "    outputPath += '/'\n",
    "    \n",
    "# make the output path\n",
    "if not os.path.exists(outputPath):\n",
    "    os.makedirs(outputPath)"
   ]
  },
  {
   "cell_type": "code",
   "execution_count": null,
   "metadata": {
    "collapsed": false,
    "deletable": true,
    "editable": true
   },
   "outputs": [],
   "source": [
    "## All numbers in SI units ##\n",
    "\n",
    "# model dimensions [km]\n",
    "length = 270e3\n",
    "height = 75e3\n",
    "\n",
    "# desired resolution\n",
    "lRes = 5e3\n",
    "hRes = 1e3"
   ]
  },
  {
   "cell_type": "code",
   "execution_count": null,
   "metadata": {
    "collapsed": false,
    "deletable": true,
    "editable": true
   },
   "outputs": [],
   "source": [
    "(resI, resJ) = (int(length/lRes),int(height/hRes) )\n",
    "print \"Resolution: {} x {}\".format(resI, resJ)"
   ]
  },
  {
   "cell_type": "code",
   "execution_count": null,
   "metadata": {
    "collapsed": false,
    "deletable": true,
    "editable": true
   },
   "outputs": [],
   "source": [
    "mymesh = uw.mesh.FeMesh_Cartesian(elementType='Q1/dQ0',\n",
    "                                elementRes = (resI,resJ),\n",
    "                                minCoord   = (0.0,-1*height),\n",
    "                                maxCoord   = (length, 15e3))"
   ]
  },
  {
   "cell_type": "code",
   "execution_count": null,
   "metadata": {
    "collapsed": true,
    "deletable": true,
    "editable": true
   },
   "outputs": [],
   "source": [
    "velocityField = uw.mesh.MeshVariable(mymesh,         nodeDofCount=2)\n",
    "pressureField = uw.mesh.MeshVariable(mymesh.subMesh, nodeDofCount=1)\n",
    "temperatureField = uw.mesh.MeshVariable(mymesh,      nodeDofCount=1)\n",
    "\n",
    "meltField = uw.mesh.MeshVariable(mymesh, nodeDofCount=1)\n",
    "\n",
    "# initialise to be sure\n",
    "velocityField.data[:] = [0.0,0.0]\n",
    "temperatureField.data[:] = 0.0"
   ]
  },
  {
   "cell_type": "code",
   "execution_count": null,
   "metadata": {
    "collapsed": false,
    "deletable": true,
    "editable": true
   },
   "outputs": [],
   "source": [
    "# create the swarm\n",
    "myswarm           = uw.swarm.Swarm( mesh=mymesh, particleEscape=True )\n",
    "swarmLayout       = uw.swarm.layouts.GlobalSpaceFillerLayout( swarm=myswarm, particlesPerCell=20 )\n",
    "\n",
    "# create swarm variables - tre cool!\n",
    "materialVariable  = myswarm.add_variable( dataType=\"int\"   , count=1 )\n",
    "old_melt          = myswarm.add_variable( dataType=\"double\", count=1 )\n",
    "\n",
    "# populate swarm - should be after add_variables()\n",
    "myswarm.populate_using_layout( layout=swarmLayout )"
   ]
  },
  {
   "cell_type": "code",
   "execution_count": null,
   "metadata": {
    "collapsed": false,
    "deletable": true,
    "editable": true
   },
   "outputs": [],
   "source": [
    "worldParams = {\n",
    "    'gravity'      : 9.8,\n",
    "    'cp'           : 1e3, \n",
    "    'diffusivity'  : 9.1e-7, # [m^2 s^-1]\n",
    "    'spreadingV'   : 3.0441400304414e-10, # m*s-1 ~ 0.96 cm/year\n",
    "    'thermalExp'   : 2.8e-5,  # [K^-1]\n",
    "    'outputPath'   : outputPath\n",
    "}\n",
    "\n",
    "meltParams = {\n",
    "    'lhf'            : 200, # kJ/kg the latent heat of fusion\n",
    "    'viscosityChange': 1e3, \n",
    "    'densityChange'  : 0.13 \n",
    "}\n",
    "\n",
    "airParams = {\n",
    "    'index'      : 0,\n",
    "    'density'    : 0., # kg m^-3\n",
    "    'depth'      : 5.0e3,  # km\n",
    "    'radiogenic' : 0.0, # W m^-3\n",
    "}\n",
    "\n",
    "stickyAirParams = {\n",
    "    'index'      : 1,\n",
    "    'density'    : 1.2, # kg m^-3\n",
    "    'depth'      : 0.0e3,  # km\n",
    "    'radiogenic' : 0.0, # W m^-3\n",
    "}\n",
    " \n",
    "crustParams = {\n",
    "    'index'      : 2,\n",
    "    'density'    : 2720.0, # kg m^-3\n",
    "    'depth'      : -60e3,  # km\n",
    "    'radiogenic' : 7.67e-7 # W m^-3 \n",
    "}\n",
    "\n",
    "mantleParams = {\n",
    "    'index'      : 3,\n",
    "    'density'    : 3370.0,  # kg m^-3\n",
    "    'depth'      : -75e3,   # km\n",
    "    'radiogenic' : 0.0e-6, # W m^-3\n",
    "}\n",
    "\n",
    "worldParams['basalheatFlow'] = -0.022/( mantleParams['density'] * worldParams['cp']) # W m^-3/(rho*cp)"
   ]
  },
  {
   "cell_type": "code",
   "execution_count": null,
   "metadata": {
    "collapsed": false,
    "deletable": true,
    "editable": true
   },
   "outputs": [],
   "source": [
    "modelParams = {'world'    : worldParams, \n",
    "               'air'      : airParams,\n",
    "               'stickyAir': stickyAirParams, \n",
    "               'mantle'   : mantleParams,\n",
    "               'crust'    : crustParams,\n",
    "               'melt'     : meltParams  }"
   ]
  },
  {
   "cell_type": "code",
   "execution_count": null,
   "metadata": {
    "collapsed": false,
    "deletable": true,
    "editable": true
   },
   "outputs": [],
   "source": [
    "# define material geometry using python loop - slow but explicit\n",
    "for index in range( len(myswarm.particleCoordinates.data) ):\n",
    "\n",
    "    coord = myswarm.particleCoordinates.data[index][:]\n",
    "    \n",
    "    if   coord[1] > airParams['depth']:\n",
    "        materialVariable.data[index] = airParams['index']\n",
    "        \n",
    "    elif   coord[1] > stickyAirParams['depth']:\n",
    "        materialVariable.data[index] = stickyAirParams['index']\n",
    "        \n",
    "    elif coord[1] > crustParams['depth']:\n",
    "        materialVariable.data[index] = crustParams['index']\n",
    "        \n",
    "    elif coord[1] > mantleParams['depth']:\n",
    "        materialVariable.data[index] = mantleParams['index']"
   ]
  },
  {
   "cell_type": "code",
   "execution_count": null,
   "metadata": {
    "collapsed": false,
    "deletable": true,
    "editable": true
   },
   "outputs": [],
   "source": [
    "matfig = glucifer.Figure()\n",
    "matfig.append( glucifer.objects.Points(myswarm, materialVariable, fn_size=2.) )\n",
    "matfig.show()"
   ]
  },
  {
   "cell_type": "code",
   "execution_count": null,
   "metadata": {
    "collapsed": false,
    "deletable": true,
    "editable": true
   },
   "outputs": [],
   "source": [
    "# define special wall boundary index sets\n",
    "iWalls = mymesh.specialSets['MinI_VertexSet'] + mymesh.specialSets['MaxI_VertexSet']\n",
    "jWalls = mymesh.specialSets['MinJ_VertexSet'] + mymesh.specialSets['MaxJ_VertexSet']\n",
    "topWall = mymesh.specialSets['MaxJ_VertexSet']\n",
    "bottomWall = mymesh.specialSets['MinJ_VertexSet']\n",
    "\n",
    "# go through local nodes and find switch should be considered air\n",
    "airNodes = []\n",
    "for n_i in range(mymesh.nodesLocal):\n",
    "    ycoord = mymesh.data[n_i][1]\n",
    "    if ycoord > 0.0:\n",
    "        airNodes.append(n_i)\n",
    "\n",
    "# create a set of nodes in the air layer\n",
    "airSet = uw.mesh.FeMesh_IndexSet(mymesh, topologicalIndex=0, size=mymesh.nodesGlobal, fromObject=airNodes)"
   ]
  },
  {
   "cell_type": "code",
   "execution_count": null,
   "metadata": {
    "collapsed": true,
    "deletable": true,
    "editable": true
   },
   "outputs": [],
   "source": [
    "# density functions\n",
    "crustDensityFn = crustParams['density'] * (1. - worldParams['thermalExp'] * (temperatureField-293.15) )\n",
    "mantleDensityFn = mantleParams['density'] * (1. - worldParams['thermalExp'] * (temperatureField-293.15) )\n",
    "\n",
    "# density units [km*m^-3]\n",
    "densityMap = { airParams['index']  : airParams['density'],\n",
    "               stickyAirParams['index']  : stickyAirParams['density'],\n",
    "               crustParams['index']  : crustDensityFn ,\n",
    "               mantleParams['index']  : mantleDensityFn }\n",
    "\n",
    "densityFn = fn.branching.map( fn_key = materialVariable, mapping = densityMap )"
   ]
  },
  {
   "cell_type": "code",
   "execution_count": null,
   "metadata": {
    "collapsed": false,
    "deletable": true,
    "editable": true
   },
   "outputs": [],
   "source": [
    "# radiogenic functions\n",
    "crustRadioFn = crustParams['radiogenic']/(densityFn*worldParams['cp'])\n",
    "mantleRadioFn = mantleParams['radiogenic']/(densityFn*worldParams['cp'])\n",
    "# heating functions for the materials [ W m^-3 / (rho * cp )] \n",
    "radiogenicMap = { airParams['index']  : 0.0, \n",
    "                  stickyAirParams['index']  : 0.0, \n",
    "                  crustParams['index']  : crustParams['radiogenic']/(densityFn*worldParams['cp']), \n",
    "                  mantleParams['index']  : mantleParams['radiogenic']/(densityFn*worldParams['cp']) }\n",
    "\n",
    "radiogenicFn = fn.branching.map( fn_key = materialVariable, mapping = radiogenicMap )\n",
    "\n",
    "# heat boundary condition\n",
    "temperatureField.data[airSet.data] = 293.15\n",
    "temperatureFlux = [0.0,-1.0]*fn.misc.constant(worldParams['basalheatFlow'])"
   ]
  },
  {
   "cell_type": "code",
   "execution_count": null,
   "metadata": {
    "collapsed": false,
    "deletable": true,
    "editable": true
   },
   "outputs": [],
   "source": [
    "tempDirichletBCs = uw.conditions.DirichletCondition( variable    = temperatureField, \n",
    "                                                     indexSetsPerDof = ( airSet ) )\n",
    "tempNeumannBCs = uw.conditions.NeumannCondition( flux=temperatureFlux, variable=temperatureField,\n",
    "                                              nodeIndexSet = (bottomWall) )"
   ]
  },
  {
   "cell_type": "code",
   "execution_count": null,
   "metadata": {
    "collapsed": false,
    "deletable": true,
    "editable": true
   },
   "outputs": [],
   "source": [
    "heatSS = uw.systems.SteadyStateHeat(temperatureField, \n",
    "                                     fn_diffusivity=worldParams['diffusivity'],\n",
    "                                     fn_heating=radiogenicFn,\n",
    "                                     conditions=[tempDirichletBCs, tempNeumannBCs])\n",
    "\n",
    "heatSSSolver = uw.systems.Solver(heatSS)"
   ]
  },
  {
   "cell_type": "code",
   "execution_count": null,
   "metadata": {
    "collapsed": false,
    "deletable": true,
    "editable": true
   },
   "outputs": [],
   "source": [
    "heatSSSolver.solve(nonLinearIterate=True)"
   ]
  },
  {
   "cell_type": "code",
   "execution_count": null,
   "metadata": {
    "collapsed": false,
    "deletable": true,
    "editable": true
   },
   "outputs": [],
   "source": [
    "tfig = glucifer.Figure()\n",
    "tfig.append( glucifer.objects.Surface(mymesh, temperatureField))\n",
    "tfig.show()"
   ]
  },
  {
   "cell_type": "code",
   "execution_count": null,
   "metadata": {
    "collapsed": false,
    "deletable": true,
    "editable": true,
    "scrolled": false
   },
   "outputs": [],
   "source": [
    "rhofig = glucifer.Figure()\n",
    "rhofig.append( glucifer.objects.Points(myswarm, densityFn, fn_size=2.,\n",
    "                                       valueRange=[0.1,3400], logScale=True) )\n",
    "rhofig.show()"
   ]
  },
  {
   "cell_type": "code",
   "execution_count": null,
   "metadata": {
    "collapsed": false,
    "deletable": true,
    "editable": true
   },
   "outputs": [],
   "source": [
    "from math import fabs\n",
    "\n",
    "class Node(object):\n",
    "    def __init__(self, mesh, index):\n",
    "        self.index = index\n",
    "        self.x = mesh.data[index][0]\n",
    "        self.y = mesh.data[index][1]\n",
    "\n",
    "class Element(object):\n",
    "    def __init__(self, mesh, index):\n",
    "        self.index = index\n",
    "        self.botLeftNode  = Node(mesh, mesh.data_elementNodes[index][0])\n",
    "        self.botRightNode = Node(mesh, mesh.data_elementNodes[index][1])\n",
    "        self.topLeftNode  = Node(mesh, mesh.data_elementNodes[index][2])\n",
    "        self.topRightNode = Node(mesh, mesh.data_elementNodes[index][3])\n",
    "        \n",
    "        if index < mesh.elementsGlobal - mesh.elementRes[0]:\n",
    "            \n",
    "            self.above = index + mesh.elementRes[0]\n",
    "        else:\n",
    "            self.above = None\n",
    "            \n",
    "        if index > (mesh.elementRes[0] - 1):\n",
    "            \n",
    "            self.below = index - mesh.elementRes[0]\n",
    "        else:\n",
    "            self.below = None\n",
    "        \n",
    "        self.dX = fabs(self.botRightNode.x - self.botLeftNode.x)\n",
    "        self.dY = fabs(self.topLeftNode.y - self.botRightNode.y)\n",
    "        \n",
    "        self.volume = self.dX * self.dY\n",
    "        \n",
    "        \n",
    "def lithoPressure(mesh, lithoPress, Density, gravity):\n",
    "    # Go through the mesh elements starting from the top right corner\n",
    "    # !! Order matters !!\n",
    "    for index in range(mesh.elementsGlobal - 1, -1, -1):\n",
    "        elem = Element(mesh, index)\n",
    "    \n",
    "        pressure = 0.\n",
    "        above = elem.above\n",
    "    \n",
    "        if above is not None: # Get Pressure from above elements\n",
    "            pressure = lithoPress.data[above]\n",
    "            elemAbove = Element(mesh, above)\n",
    "            pressure += (gravity * elemAbove.dY / 4.0 * (Density.data[elemAbove.botLeftNode.index] +\n",
    "                    Density.data[elemAbove.botRightNode.index]))\n",
    "    \n",
    "        pressure += (gravity * elem.dY / 4.0 * (Density.data[elem.topLeftNode.index] +\n",
    "                Density.data[elem.topRightNode.index]))\n",
    "        lithoPress.data[index] = pressure\n",
    "        \n",
    "    return lithoPress.data\n",
    "\n",
    "DensityVar = uw.mesh.MeshVariable(mymesh, nodeDofCount=1)\n",
    "projectorDensity = uw.utils.MeshVariable_Projection( DensityVar, densityFn, type=0 )\n",
    "projectorDensity.solve()\n",
    "\n",
    "pressureField.data[:] = lithoPressure(mymesh, pressureField, DensityVar, 9.81)"
   ]
  },
  {
   "cell_type": "code",
   "execution_count": null,
   "metadata": {
    "collapsed": false,
    "deletable": true,
    "editable": true
   },
   "outputs": [],
   "source": [
    "pfig = glucifer.Figure()\n",
    "pfig.append( glucifer.objects.SurfaceOnMesh(mymesh, pressureField, colours=\"#0044BB, #777777, #FF9900\") )\n",
    "pfig.show()"
   ]
  },
  {
   "cell_type": "code",
   "execution_count": null,
   "metadata": {
    "collapsed": true,
    "deletable": true,
    "editable": true
   },
   "outputs": [],
   "source": [
    "# numpy operations to evaluate melting fraction\n",
    "def evalMelt( pressure, temperature ):\n",
    "    T_s = np.polynomial.polynomial.polyval(pressure, [1063,-1.2e-7,1.2e-16])\n",
    "    T_l = np.polynomial.polynomial.polyval(pressure, [1563.0,-1.2e-7,1.2e-16])\n",
    "    T_ss = ( temperature - 0.5*(T_s+T_l) ) / (T_l-T_s)\n",
    "    return np.where( (-0.5<T_ss) & (T_ss<0.5), \n",
    "                     0.5 + T_ss + ( T_ss*T_ss -0.25 )*( 0.4256 + 2.988 * T_ss ), \n",
    "                     0.0  )"
   ]
  },
  {
   "cell_type": "code",
   "execution_count": null,
   "metadata": {
    "collapsed": false,
    "deletable": true,
    "editable": true
   },
   "outputs": [],
   "source": [
    "# test the melt function but rendering it on the mesh\n",
    "meltField.data[:] = evalMelt (pressureField.evaluate(mymesh), temperatureField.evaluate(mymesh) )\n",
    "\n",
    "mfig = glucifer.Figure()\n",
    "mfig.append( glucifer.objects.SurfaceOnMesh(mymesh, meltField) )\n",
    "mfig.show()"
   ]
  },
  {
   "cell_type": "code",
   "execution_count": null,
   "metadata": {
    "collapsed": false,
    "deletable": true,
    "editable": true
   },
   "outputs": [],
   "source": [
    "# make a geotherm along the MinI_VertexSet\n",
    "wallNodes = mymesh.specialSets['MinI_VertexSet']\n",
    "\n",
    "# get data: coords, temperature, pressure, mesh\n",
    "ycoords = mymesh.data[wallNodes.data][:,1].reshape(-1,1)/1e3\n",
    "temps = temperatureField.data[wallNodes.data]\n",
    "pressure = pressureField.evaluate(wallNodes)\n",
    "melt = meltField.data[wallNodes.data]\n",
    "\n",
    "# use numpy to evaluate solidus and liquidus\n",
    "T_s = np.polynomial.polynomial.polyval(pressure, [1063,-1.2e-7,1.2e-16])\n",
    "T_l = np.polynomial.polynomial.polyval(pressure, [1563.0,-1.2e-7,1.2e-16])\n",
    "\n",
    "%matplotlib inline\n",
    "import matplotlib.pyplot as pyplot\n",
    "import matplotlib.pylab as pylab\n",
    "pylab.rcParams[ 'figure.figsize'] = 12, 6\n",
    "pyplot.plot(temps,ycoords, 'o', color = 'black', label='geotherm') \n",
    "pyplot.plot(T_s,ycoords, 'o', color = 'blue', label='solidus') \n",
    "pyplot.plot(T_l,ycoords, 'o', color = 'red', label='liquidus') \n",
    "pyplot.ylabel('depth km')\n",
    "pyplot.xlabel('Temperature K')\n",
    "pyplot.legend()\n",
    "    \n",
    "pyplot.savefig(outputPath+'geotherm.png')"
   ]
  },
  {
   "cell_type": "code",
   "execution_count": null,
   "metadata": {
    "collapsed": false,
    "deletable": true,
    "editable": true
   },
   "outputs": [],
   "source": [
    "with open('./'+outputPath+'data.json', 'w') as outfile:\n",
    "    json.dump(modelParams, outfile)\n",
    "    \n",
    "# checkpoint temperature field and create xdmf\n",
    "mH = temperatureField.mesh.save(outputPath+'mesh.h5')\n",
    "tH = temperatureField.save(outputPath+'temperature.h5', mH )\n",
    "mH = temperatureField.xdmf(outputPath+'temperature.xdmf', tH, 'temperature', mH, 'mesh')"
   ]
  },
  {
   "cell_type": "markdown",
   "metadata": {},
   "source": [
    "**Exercise**:\n",
    "\n",
    "1) Modify the material parameter to alter the geotherm."
   ]
  },
  {
   "cell_type": "code",
   "execution_count": null,
   "metadata": {
    "collapsed": false,
    "deletable": true,
    "editable": true
   },
   "outputs": [],
   "source": [
    "# example of what would be required for a restart of the above simulation\n",
    "\n",
    "# velocityField = uw.mesh.MeshVariable(mymesh, nodeDofCount=3 )\n",
    "# tDot = uw.mesh.MeshVariable(mymesh, nodeDofCount=1 )\n",
    "\n",
    "# old_melt.data[:] = evalMelt(-1.0*pressureField.evaluate(myswarm), temperatureField.evaluate(myswarm))\n",
    "\n",
    "# dF_dt = fn.misc.constant(0.0) # important for redefining later\n",
    "\n",
    "# dynamicHeating = meltParams['lhf']/worldParams['cp']*dF_dt\n",
    "\n",
    "# temperatureField.load('./path/to/saved_tempurature.h5')\n",
    "\n",
    "# heatEq = uw.systems.AdvectionDiffusion(temperatureField, tDot, velocityField,  \n",
    "#                                      fn_diffusivity=worldParams['diffusivity'],\n",
    "#                                      fn_sourceTerm=radiogenicFn,# + temperatureField*dynamicHeating,\n",
    "#                                      conditions=[tempDirichletBCs, tempNeumannBCs])"
   ]
  },
  {
   "cell_type": "code",
   "execution_count": null,
   "metadata": {
    "collapsed": false,
    "deletable": true,
    "editable": true
   },
   "outputs": [],
   "source": [
    "# # setup the melting viscosity modifier as a function\n",
    "\n",
    "# change = 1.0-(1.0-meltParams['viscosityChange'])/(0.15-0.3)*(meltField-0.15)\n",
    "\n",
    "# meltViscosityFn = fn.branching.conditional( [ ( meltField < 0.15, 1.0 ),\n",
    "#                                               ( meltField > 0.3 , 1e-3),\n",
    "#                                               (  True, change )] )\n"
   ]
  }
 ],
 "metadata": {
  "kernelspec": {
   "display_name": "Python 2",
   "language": "python",
   "name": "python2"
  },
  "language_info": {
   "codemirror_mode": {
    "name": "ipython",
    "version": 2
   },
   "file_extension": ".py",
   "mimetype": "text/x-python",
   "name": "python",
   "nbconvert_exporter": "python",
   "pygments_lexer": "ipython2",
   "version": "2.7.11+"
  }
 },
 "nbformat": 4,
 "nbformat_minor": 0
}
