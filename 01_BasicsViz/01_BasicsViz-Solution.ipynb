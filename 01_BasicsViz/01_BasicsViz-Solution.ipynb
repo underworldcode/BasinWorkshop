{
 "cells": [
  {
   "cell_type": "markdown",
   "metadata": {
    "deletable": true,
    "editable": true
   },
   "source": [
    "## Discretisations\n",
    "\n",
    "\n",
    "- Underworld's model building blocks\n",
    "\n",
    "**New concepts**: FEM Mesh, 'data', MeshVariables, 'specialSets'"
   ]
  },
  {
   "cell_type": "markdown",
   "metadata": {
    "deletable": true,
    "editable": true
   },
   "source": [
    "<table><tr><td><img src='../images/refinement.png'></td><td><img src='../images/gradient.png'></td></tr></table>"
   ]
  },
  {
   "cell_type": "code",
   "execution_count": null,
   "metadata": {
    "collapsed": true,
    "deletable": true,
    "editable": true
   },
   "outputs": [],
   "source": [
    "# we import our python modules\n",
    "import underworld as uw\n",
    "import glucifer"
   ]
  },
  {
   "cell_type": "code",
   "execution_count": null,
   "metadata": {
    "collapsed": false,
    "deletable": true,
    "editable": true
   },
   "outputs": [],
   "source": [
    "# lets make a mesh and visualise it\n",
    "mesh = uw.mesh.FeMesh_Cartesian(elementType = 'Q1', \n",
    "                                elementRes  = (8,8),\n",
    "                                minCoord    = (0.0,0.0),\n",
    "                                maxCoord    = (10.,10.0))\n",
    "\n",
    "# to visualise - common pattern\n",
    "fig = glucifer.Figure(rulers=True, rulerticks=5, border=0) # define figure\n",
    "fig.append(glucifer.objects.Mesh(mesh, nodeNumbers=True))  # add object to render\n",
    "fig.show()                                                 # render now"
   ]
  },
  {
   "cell_type": "markdown",
   "metadata": {
    "deletable": true,
    "editable": true
   },
   "source": [
    "## the mesh object"
   ]
  },
  {
   "cell_type": "code",
   "execution_count": null,
   "metadata": {
    "collapsed": false,
    "deletable": true,
    "editable": true
   },
   "outputs": [],
   "source": [
    "# hold shift + tabx2 with the cursur on the mesh\n",
    "mesh"
   ]
  },
  {
   "cell_type": "code",
   "execution_count": null,
   "metadata": {
    "collapsed": false,
    "deletable": true,
    "editable": true
   },
   "outputs": [],
   "source": [
    "# The meshes' node geometry data can be directly read via numpy arrays `mesh.data` .. try it"
   ]
  },
  {
   "cell_type": "code",
   "execution_count": null,
   "metadata": {
    "collapsed": true,
    "deletable": true,
    "editable": true
   },
   "outputs": [],
   "source": [
    "#mesh.data"
   ]
  },
  {
   "cell_type": "markdown",
   "metadata": {
    "deletable": true,
    "editable": true
   },
   "source": [
    "#### The 'data' is attribute is a numpy array \n",
    "- we have direct access to it\n",
    "- same memory as the underlying c code layer"
   ]
  },
  {
   "cell_type": "code",
   "execution_count": null,
   "metadata": {
    "collapsed": false,
    "deletable": true,
    "editable": true
   },
   "outputs": [],
   "source": [
    "# the mesh.data is a read only array, to alter it we need the 'with' pattern\n",
    "with mesh.deform_mesh():\n",
    "    mesh.data[0][0] -= 0.5"
   ]
  },
  {
   "cell_type": "code",
   "execution_count": null,
   "metadata": {
    "collapsed": false,
    "deletable": true,
    "editable": true
   },
   "outputs": [],
   "source": [
    "# no need to redefine the 'fig' object - it's persistent \n",
    "fig.show()"
   ]
  },
  {
   "cell_type": "code",
   "execution_count": null,
   "metadata": {
    "collapsed": false,
    "deletable": true,
    "editable": true,
    "hideCode": false,
    "hideOutput": false,
    "hidePrompt": false
   },
   "outputs": [],
   "source": [
    "# a quick example for mesh refinement\n",
    "mesh.reset()\n",
    "with mesh.deform_mesh():\n",
    "    for index, coord in enumerate(mesh.data):\n",
    "        factor = (mesh.data[index][1]/mesh.maxCoord[1])**0.5\n",
    "        mesh.data[index][1] = factor*mesh.maxCoord[1]\n",
    "fig.show()"
   ]
  },
  {
   "cell_type": "code",
   "execution_count": null,
   "metadata": {
    "collapsed": true,
    "deletable": true,
    "editable": true
   },
   "outputs": [],
   "source": [
    "# reset to equally spaced\n",
    "mesh.reset()"
   ]
  },
  {
   "cell_type": "markdown",
   "metadata": {
    "deletable": true,
    "editable": true,
    "hideOutput": false,
    "hidePrompt": false
   },
   "source": [
    "### Adding a variable to the mesh: a MeshVariable"
   ]
  },
  {
   "cell_type": "code",
   "execution_count": null,
   "metadata": {
    "collapsed": true,
    "deletable": true,
    "editable": true
   },
   "outputs": [],
   "source": [
    "# number of components can be set with 'nodeDofCount'\n",
    "field = uw.mesh.MeshVariable(mesh=mesh, nodeDofCount=1)"
   ]
  },
  {
   "cell_type": "code",
   "execution_count": null,
   "metadata": {
    "collapsed": false,
    "deletable": true,
    "editable": true
   },
   "outputs": [],
   "source": [
    "fig2 = glucifer.Figure()\n",
    "fig2.append(glucifer.objects.SurfaceOnMesh(mesh, field))\n",
    "fig2.show()"
   ]
  },
  {
   "cell_type": "code",
   "execution_count": null,
   "metadata": {
    "collapsed": true,
    "deletable": true,
    "editable": true
   },
   "outputs": [],
   "source": [
    "# the fields.data is also a numpy array, direct access\n",
    "field.data[40] = 4."
   ]
  },
  {
   "cell_type": "code",
   "execution_count": null,
   "metadata": {
    "collapsed": false,
    "deletable": true,
    "editable": true
   },
   "outputs": [],
   "source": [
    "fig2.show()"
   ]
  },
  {
   "cell_type": "code",
   "execution_count": null,
   "metadata": {
    "collapsed": false,
    "deletable": true,
    "editable": true
   },
   "outputs": [],
   "source": [
    "for index in range(mesh.nodesGlobal):\n",
    "    field.data[index] = index"
   ]
  },
  {
   "cell_type": "code",
   "execution_count": null,
   "metadata": {
    "collapsed": false,
    "deletable": true,
    "editable": true
   },
   "outputs": [],
   "source": [
    "fig2.show()"
   ]
  },
  {
   "cell_type": "code",
   "execution_count": null,
   "metadata": {
    "collapsed": false,
    "deletable": true,
    "editable": true
   },
   "outputs": [],
   "source": [
    "# something more interesting, a sinusoidal shape\n",
    "\n",
    "# note the import\n",
    "import math\n",
    "\n",
    "for index, coord in enumerate(mesh.data):\n",
    "    field.data[index] = math.sin(coord[0]*2*math.pi/10. )#(coord[0]/2.)**2+coord[1]\n",
    "#     field.data[index] = math.exp( -1.0/10.*((coord[0]-5.0)**2+(coord[1]-5.0)**2))\n",
    "\n",
    "fig2.show()"
   ]
  },
  {
   "cell_type": "code",
   "execution_count": null,
   "metadata": {
    "collapsed": false,
    "deletable": true,
    "editable": true
   },
   "outputs": [],
   "source": [
    "# with MeshVariable you have access to its spatial gradient with `field.fn_gradient`\n",
    "# the gradient of a scalar field is a vector\n",
    "fig3 = glucifer.Figure(**fig2)\n",
    "fig3.append( glucifer.objects.VectorArrows( mesh, field.fn_gradient,     \n",
    "                                           scaling=1., arrowHead=0.35))\n",
    "\n",
    "fig3.show()"
   ]
  },
  {
   "cell_type": "code",
   "execution_count": null,
   "metadata": {
    "collapsed": true,
    "deletable": true,
    "editable": true
   },
   "outputs": [],
   "source": [
    "# zero the whole field with numpy \n",
    "field.data[...] = 0.0"
   ]
  },
  {
   "cell_type": "markdown",
   "metadata": {
    "collapsed": true,
    "deletable": true,
    "editable": true
   },
   "source": [
    "#### mesh.specialSets"
   ]
  },
  {
   "cell_type": "code",
   "execution_count": null,
   "metadata": {
    "collapsed": false,
    "deletable": true,
    "editable": true
   },
   "outputs": [],
   "source": [
    "# Sets of node indexes that define boundaries are available under the `mesh.specialSets` dictionary\n",
    "print mesh.specialSets.keys()\n",
    "# the right wall is defined as MaxI_VertexSet\n",
    "rightWall = mesh.specialSets[\"MaxI_VertexSet\"]\n",
    "print rightWall"
   ]
  },
  {
   "cell_type": "code",
   "execution_count": null,
   "metadata": {
    "collapsed": false,
    "deletable": true,
    "editable": true
   },
   "outputs": [],
   "source": [
    "# get the coordinates along `rightWall`\n",
    "for index in rightWall:\n",
    "    print mesh.data[index]"
   ]
  },
  {
   "cell_type": "code",
   "execution_count": null,
   "metadata": {
    "collapsed": false,
    "deletable": true,
    "editable": true
   },
   "outputs": [],
   "source": [
    "fig.show()"
   ]
  },
  {
   "cell_type": "markdown",
   "metadata": {
    "deletable": true,
    "editable": true
   },
   "source": [
    "## Points on parallisation\n",
    "- The `Mesh` is automatically decomposed across job processors.\n",
    "- The `MeshVariable`s are similarly decomposed with the `Mesh`.\n",
    "- glucifer can render parallel automatically but only to disk, ie. `show` --> `save_image`\n",
    "- `Mesh` and `MeshVariable`s can be saved/load to xdmf file format."
   ]
  },
  {
   "cell_type": "markdown",
   "metadata": {
    "deletable": true,
    "editable": true
   },
   "source": [
    "**Exercise:**\n",
    "\n",
    "1. Use specialSets to set each boundary wall of `field` to constant value\n",
    "2. Can you save the mesh to xdmf, visualise it in paraview, can you reload it?"
   ]
  },
  {
   "cell_type": "code",
   "execution_count": null,
   "metadata": {
    "collapsed": true,
    "deletable": true,
    "editable": true
   },
   "outputs": [],
   "source": [
    "field.data[...] = 1.0\n",
    "for index in mesh.specialSets['MinI_VertexSet']:\n",
    "    field.data[index] = 1.0\n",
    "for index in mesh.specialSets['MaxI_VertexSet']:\n",
    "    field.data[index] = 2.0\n",
    "for index in mesh.specialSets['MinJ_VertexSet']:\n",
    "    field.data[index] = 3.0\n",
    "for index in mesh.specialSets['MaxJ_VertexSet']:\n",
    "    field.data[index] = 4.0"
   ]
  },
  {
   "cell_type": "code",
   "execution_count": null,
   "metadata": {
    "collapsed": false,
    "deletable": true,
    "editable": true,
    "scrolled": false
   },
   "outputs": [],
   "source": [
    "fig2.show()"
   ]
  },
  {
   "cell_type": "code",
   "execution_count": null,
   "metadata": {
    "collapsed": true
   },
   "outputs": [],
   "source": [
    "mH = mesh.save('mymesh.h5')\n",
    "fH = field.save('myfield.h5', mH)\n",
    "field.xdmf('myfield', fH, 'temperature', mH, 'mesh')"
   ]
  }
 ],
 "metadata": {
  "kernelspec": {
   "display_name": "Python 2",
   "language": "python",
   "name": "python2"
  },
  "language_info": {
   "codemirror_mode": {
    "name": "ipython",
    "version": 2
   },
   "file_extension": ".py",
   "mimetype": "text/x-python",
   "name": "python",
   "nbconvert_exporter": "python",
   "pygments_lexer": "ipython2",
   "version": "2.7.11+"
  }
 },
 "nbformat": 4,
 "nbformat_minor": 0
}
